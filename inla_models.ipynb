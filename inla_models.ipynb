{
  "nbformat": 4,
  "nbformat_minor": 0,
  "metadata": {
    "colab": {
      "name": "R.ipynb",
      "provenance": [],
      "toc_visible": true,
      "include_colab_link": true
    },
    "kernelspec": {
      "name": "ir",
      "display_name": "R"
    }
  },
  "cells": [
    {
      "cell_type": "markdown",
      "metadata": {
        "id": "view-in-github",
        "colab_type": "text"
      },
      "source": [
        "<a href=\"https://colab.research.google.com/github/ambarja/INLA-MODELS/blob/main/inla_models.ipynb\" target=\"_parent\"><img src=\"https://colab.research.google.com/assets/colab-badge.svg\" alt=\"Open In Colab\"/></a>"
      ]
    },
    {
      "cell_type": "markdown",
      "metadata": {
        "id": "Fut9xFpju1d_"
      },
      "source": [
        "<img align=\"left\" style=\"padding-right:10px;\" src=\"https://avatars.githubusercontent.com/u/46831228?s=200&v=4\" width=10% ><img align=\"right\" style=\"padding-left:10px;\" src=\"https://colab.research.google.com/img/colab_favicon.ico\" width=10% >\n",
        "<p><b><h2 align =\"center\">Malaria Hydrobasins project</h2></b></p>"
      ]
    },
    {
      "cell_type": "code",
      "metadata": {
        "id": "IdxR6WIQY-TI"
      },
      "source": [
        "#@title **Install packages main. It takes aprox. 10 min**\n",
        "system('sudo add-apt-repository ppa:ubuntugis/ubuntugis-unstable')\n",
        "system('sudo apt-get update')\n",
        "system('sudo apt-get install libudunits2-dev libgdal-dev libgeos-dev libproj-dev')\n",
        "system('sudo apt-get install libprotobuf-dev protobuf-compiler libv8-dev libjq-dev')\n",
        "install.packages('sf')\n",
        "install.packages('tidyverse')\n",
        "install.packages('INLA')\n",
        "install.packages('spdep')\n",
        "install.packages('Metrics')"
      ],
      "execution_count": null,
      "outputs": []
    },
    {
      "cell_type": "code",
      "metadata": {
        "id": "uKtyJPA2iDja"
      },
      "source": [
        ""
      ],
      "execution_count": null,
      "outputs": []
    }
  ]
}