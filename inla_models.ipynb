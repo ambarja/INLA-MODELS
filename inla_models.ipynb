{
  "nbformat": 4,
  "nbformat_minor": 0,
  "metadata": {
    "colab": {
      "name": "R.ipynb",
      "provenance": [],
      "toc_visible": true,
      "include_colab_link": true
    },
    "kernelspec": {
      "name": "ir",
      "display_name": "R"
    }
  },
  "cells": [
    {
      "cell_type": "markdown",
      "metadata": {
        "id": "view-in-github",
        "colab_type": "text"
      },
      "source": [
        "<a href=\"https://colab.research.google.com/github/ambarja/INLA-MODELS/blob/main/inla_models.ipynb\" target=\"_parent\"><img src=\"https://colab.research.google.com/assets/colab-badge.svg\" alt=\"Open In Colab\"/></a>"
      ]
    },
    {
      "cell_type": "markdown",
      "metadata": {
        "id": "Fut9xFpju1d_"
      },
      "source": [
        "<img align=\"left\" style=\"padding-right:10px;\" src=\"https://avatars.githubusercontent.com/u/46831228?s=200&v=4\" width=10% ><img align=\"right\" style=\"padding-left:10px;\" src=\"https://colab.research.google.com/img/colab_favicon.ico\" width=10% >\n",
        "<p><b><h2 align =\"center\">Malaria Hydrobasins project</h2></b></p>\n",
        "<p>Este proyecto tiene como objetivo analizar de forma espacial y temporal las tasas de malaria en la región de Loreto a nivel distrital y microcuenas empleando modelos bayesianos como INLA. <img src = 'https://img.shields.io/github/license/Naereen/StrapDown.js.svg' href='https://github.com/Naereen/StrapDown.js/blob/master/LICENSE'> </p>\n"
      ]
    },
    {
      "cell_type": "code",
      "metadata": {
        "id": "IdxR6WIQY-TI",
        "cellView": "form"
      },
      "source": [
        "#@title **Install packages main. It takes aprox. 10 min**\n",
        "system('sudo add-apt-repository ppa:ubuntugis/ubuntugis-unstable')\n",
        "system('sudo apt-get update')\n",
        "system('sudo apt-get install libudunits2-dev libgdal-dev libgeos-dev libproj-dev')\n",
        "system('sudo apt-get install libprotobuf-dev protobuf-compiler libv8-dev libjq-dev')\n",
        "install.packages('sf')\n",
        "install.packages('tidyverse')\n",
        "install.packages(\"INLA\",repos=c(getOption(\"repos\"),INLA=\"https://inla.r-inla-download.org/R/testing\"), dep=TRUE)\n",
        "install.packages('spdep')\n",
        "install.packages('Metrics')\n",
        "install.packages('spatialreg')"
      ],
      "execution_count": null,
      "outputs": []
    },
    {
      "cell_type": "code",
      "metadata": {
        "id": "fOLim2ax4OU_",
        "cellView": "form"
      },
      "source": [
        "#@title **functions - inla_utils**\n",
        "inla_function <- function(data, eq) {\n",
        "  result <- inla(eq,\n",
        "    family = \"nbinomial\",\n",
        "    verbose = F,\n",
        "    data = data,\n",
        "    E = nrohab,\n",
        "    control.compute = list(dic = TRUE, waic = TRUE, cpo = TRUE),\n",
        "    control.predictor = list(compute = TRUE, link = 1)\n",
        "  )\n",
        "}\n",
        "\n",
        "\n",
        "metricas_error <- function(data, model){\n",
        "  data$pred <- model$summary.fitted.values$`0.5quant`\n",
        "  met_rmse <- rmse(actual = data$fal , predicted = data$pred)\n",
        "  met_rse  <- rse(actual = data$fal , predicted = data$pred)\n",
        "  met_msle <- msle(actual = data$fal , predicted = data$pred)\n",
        "  met_mae <- mae(actual = data$fal , predicted = data$pred)\n",
        "  met_tabla <- tibble(rmse = met_rmse, rse = met_rse, msle = met_msle, met_mae)\n",
        "  return(met_tabla)\n",
        "}\n"
      ],
      "execution_count": 1,
      "outputs": []
    },
    {
      "cell_type": "code",
      "metadata": {
        "id": "uKtyJPA2iDja"
      },
      "source": [
        "library(sf)\n",
        "library(INLA)\n",
        "library(tidyverse)\n",
        "library(purrr)\n",
        "library(spdep)\n",
        "library(Metrics)"
      ],
      "execution_count": 3,
      "outputs": []
    },
    {
      "cell_type": "markdown",
      "metadata": {
        "id": "HomFmcecCegH"
      },
      "source": [
        "##1.Reading to dataset and spatial data"
      ]
    },
    {
      "cell_type": "code",
      "metadata": {
        "id": "DlRuACg5BxiM"
      },
      "source": [
        "spatial <- read_rds(\"/content/sp_district.rds\")\n",
        "dataset <- read_rds(\"/content/alldataset_district.rds\") %>% mutate(month = as.integer(month))"
      ],
      "execution_count": 4,
      "outputs": []
    },
    {
      "cell_type": "markdown",
      "metadata": {
        "id": "VFgDndH2B01X"
      },
      "source": [
        "##2.Calculate the neighborhood matrix"
      ]
    },
    {
      "cell_type": "code",
      "metadata": {
        "id": "XgG7y8NfByX5",
        "outputId": "6e00d656-98a9-437f-964c-348749cd4ba9",
        "colab": {
          "base_uri": "https://localhost:8080/"
        }
      },
      "source": [
        "nb <- poly2nb(spatial)\n",
        "g <- inla.read.graph(nb)"
      ],
      "execution_count": 5,
      "outputs": [
        {
          "output_type": "stream",
          "text": [
            "Registered S3 methods overwritten by 'spatialreg':\n",
            "  method                   from \n",
            "  residuals.stsls          spdep\n",
            "  deviance.stsls           spdep\n",
            "  coef.stsls               spdep\n",
            "  print.stsls              spdep\n",
            "  summary.stsls            spdep\n",
            "  print.summary.stsls      spdep\n",
            "  residuals.gmsar          spdep\n",
            "  deviance.gmsar           spdep\n",
            "  coef.gmsar               spdep\n",
            "  fitted.gmsar             spdep\n",
            "  print.gmsar              spdep\n",
            "  summary.gmsar            spdep\n",
            "  print.summary.gmsar      spdep\n",
            "  print.lagmess            spdep\n",
            "  summary.lagmess          spdep\n",
            "  print.summary.lagmess    spdep\n",
            "  residuals.lagmess        spdep\n",
            "  deviance.lagmess         spdep\n",
            "  coef.lagmess             spdep\n",
            "  fitted.lagmess           spdep\n",
            "  logLik.lagmess           spdep\n",
            "  fitted.SFResult          spdep\n",
            "  print.SFResult           spdep\n",
            "  fitted.ME_res            spdep\n",
            "  print.ME_res             spdep\n",
            "  print.lagImpact          spdep\n",
            "  plot.lagImpact           spdep\n",
            "  summary.lagImpact        spdep\n",
            "  HPDinterval.lagImpact    spdep\n",
            "  print.summary.lagImpact  spdep\n",
            "  print.sarlm              spdep\n",
            "  summary.sarlm            spdep\n",
            "  residuals.sarlm          spdep\n",
            "  deviance.sarlm           spdep\n",
            "  coef.sarlm               spdep\n",
            "  vcov.sarlm               spdep\n",
            "  fitted.sarlm             spdep\n",
            "  logLik.sarlm             spdep\n",
            "  anova.sarlm              spdep\n",
            "  predict.sarlm            spdep\n",
            "  print.summary.sarlm      spdep\n",
            "  print.sarlm.pred         spdep\n",
            "  as.data.frame.sarlm.pred spdep\n",
            "  residuals.spautolm       spdep\n",
            "  deviance.spautolm        spdep\n",
            "  coef.spautolm            spdep\n",
            "  fitted.spautolm          spdep\n",
            "  print.spautolm           spdep\n",
            "  summary.spautolm         spdep\n",
            "  logLik.spautolm          spdep\n",
            "  print.summary.spautolm   spdep\n",
            "  print.WXImpact           spdep\n",
            "  summary.WXImpact         spdep\n",
            "  print.summary.WXImpact   spdep\n",
            "  predict.SLX              spdep\n",
            "\n"
          ],
          "name": "stderr"
        }
      ]
    },
    {
      "cell_type": "markdown",
      "metadata": {
        "id": "MjGaFFzmDfwP"
      },
      "source": [
        "##3.Models spatial, temporal and spatial-*temporal*"
      ]
    },
    {
      "cell_type": "code",
      "metadata": {
        "id": "TtML9qvJDPqw"
      },
      "source": [
        "types <- c(\n",
        "  # model random iid\n",
        "  formula = fal ~ esco + etp + evi + hsoil + ndvi + pp + savi + temp +\n",
        "    f(new_id, model = \"iid\", graph = g),\n",
        "\n",
        "  # model spatial type besagproper\n",
        "  formula = fal ~ esco + etp + evi  + hsoil + ndvi + pp + savi + temp +\n",
        "    f(new_id, model = \"besagproper\", graph = g),\n",
        "\n",
        "  # model spatial type besag\n",
        "  formula = fal ~ esco + etp + evi + hsoil + ndvi + pp + savi + temp +\n",
        "    f(new_id, model = \"besag\", graph = g),\n",
        "\n",
        "  # model spatial type bym\n",
        "  formula = fal ~ esco + etp + evi + hsoil + ndvi + pp + savi + temp +\n",
        "    f(new_id, model = \"bym\", graph = g),\n",
        "\n",
        "  # model temporal ar1\n",
        "  formula = fal ~ esco + etp + evi  + hsoil + ndvi + pp + savi + temp +\n",
        "    f(new_id, model = \"ar1\", graph = g),\n",
        "\n",
        "  # model temporal rw1\n",
        "  formula = fal ~ esco + etp + evi  + hsoil + ndvi + pp + savi + temp +\n",
        "    f(new_id, model = \"rw1\", graph = g),\n",
        "\n",
        "  # model temporal rw2\n",
        "  formula = fal ~ esco + etp + evi  + hsoil + ndvi + pp + savi + temp +\n",
        "    f(new_id, model = \"rw2\", graph = g),\n",
        "\n",
        "  # model spatial-temporal (besagproper-rw1)\n",
        "  formula = fal ~ esco + etp + evi  + hsoil + ndvi + pp + savi + temp +\n",
        "    f(new_id, model = \"besagproper\", graph = g) + f(year, model = \"rw1\") + f(month, model = \"iid\"),\n",
        "\n",
        "  # model spatial-temporal (besag - rw1)\n",
        "  formula = fal ~ esco + etp + evi  + hsoil + ndvi + pp + savi + temp +\n",
        "    f(new_id, model = \"besag\", graph = g) + f(year, model = \"rw1\") + f(month, model = \"iid\"),\n",
        "\n",
        "  # model spatial-temporal (bym - rw1)\n",
        "  formula = fal ~ esco + etp + evi + hsoil + ndvi + pp + savi + temp +\n",
        "    f(new_id, model = \"bym\", graph = g) + f(year, model = \"rw1\") + f(month, model = \"iid\"),\n",
        "\n",
        "  # model spatial-temporal (besagproper-rw2)\n",
        "  formula = fal ~ esco + etp + evi + hsoil + ndvi + pp + savi + temp +\n",
        "    f(new_id, model = \"besagproper\", graph = g) + f(year, model = \"rw2\") + f(month, model = \"iid\"),\n",
        "\n",
        "  # model spatial-temporal (besag - rw2)\n",
        "  formula = fal ~ esco + etp + evi + hsoil + ndvi + pp + savi + temp +\n",
        "    f(new_id, model = \"besag\", graph = g) + f(year, model = \"rw2\") + f(month, model = \"iid\"),\n",
        "\n",
        "  # model spatial-temporal (bym - rw2)\n",
        "  formula = fal ~ esco + etp + evi  + hsoil + ndvi + pp + savi + temp +\n",
        "    f(new_id, model = \"bym\", graph = g) + f(year, model = \"rw2\") + f(month, model = \"iid\")\n",
        ")"
      ],
      "execution_count": 6,
      "outputs": []
    },
    {
      "cell_type": "markdown",
      "metadata": {
        "id": "W9mmLGa8D3OE"
      },
      "source": [
        "##4.Names of models"
      ]
    },
    {
      "cell_type": "code",
      "metadata": {
        "id": "NCVbkYbpDsy-"
      },
      "source": [
        "model_name <- c(\"iid\", \"besagproper\", \"besag\", \"bym\", \"ar1\", \"rw1\", \"rw2\",\n",
        "  \"besagproper-rw1\", \"besag-rw1\", \"bym-rw1\", \"besagproper-rw2\",\n",
        "  \"besag-rw2\", \"bym-rw2\")\n",
        "names(types) <- model_name"
      ],
      "execution_count": 7,
      "outputs": []
    },
    {
      "cell_type": "markdown",
      "metadata": {
        "id": "QD7e8rk4EBbc"
      },
      "source": [
        "##5.Run models"
      ]
    },
    {
      "cell_type": "code",
      "metadata": {
        "colab": {
          "base_uri": "https://localhost:8080/"
        },
        "id": "Ph-NlAdID2FN",
        "outputId": "0290c397-8f90-44e8-ea81-82efa37dd03b"
      },
      "source": [
        "model_types <- types %>% purrr::map(~ inla_function(data = dataset, eq = .))"
      ],
      "execution_count": 8,
      "outputs": [
        {
          "output_type": "stream",
          "text": [
            "Warning message in inla.model.properties.generic(inla.trim.family(model), mm[names(mm) == :\n",
            "“Model 'besagproper' in section 'latent' is marked as 'experimental'; changes may appear at any time.\n",
            "  Use this model with extra care!!! Further warnings are disabled.”\n"
          ],
          "name": "stderr"
        }
      ]
    },
    {
      "cell_type": "code",
      "metadata": {
        "colab": {
          "base_uri": "https://localhost:8080/",
          "height": 34
        },
        "id": "4xqEAXizKURp",
        "outputId": "5e8abf2d-fcb2-4156-d380-c4ce5c9e5e8c"
      },
      "source": [
        "class(model_types)"
      ],
      "execution_count": 9,
      "outputs": [
        {
          "output_type": "display_data",
          "data": {
            "text/plain": [
              "[1] \"list\""
            ],
            "text/latex": "'list'",
            "text/markdown": "'list'",
            "text/html": [
              "'list'"
            ]
          },
          "metadata": {
            "tags": []
          }
        }
      ]
    },
    {
      "cell_type": "markdown",
      "metadata": {
        "id": "jlBGCGp5KbMG"
      },
      "source": [
        "##6.Metrics"
      ]
    },
    {
      "cell_type": "code",
      "metadata": {
        "id": "4Dcf4-qHKaNX"
      },
      "source": [
        "model_metricas <- model_types %>% \n",
        "  purrr::map(~ metricas_error(data = dataset,model = .))"
      ],
      "execution_count": 10,
      "outputs": []
    },
    {
      "cell_type": "code",
      "metadata": {
        "colab": {
          "base_uri": "https://localhost:8080/",
          "height": 1000
        },
        "id": "FlZreVizKkkK",
        "outputId": "ed29b30f-469e-4b47-ece7-1e9714b9309c"
      },
      "source": [
        "model_metricas"
      ],
      "execution_count": 11,
      "outputs": [
        {
          "output_type": "display_data",
          "data": {
            "text/plain": [
              "$iid\n",
              "\u001b[90m# A tibble: 1 x 4\u001b[39m\n",
              "   rmse   rse  msle met_mae\n",
              "  \u001b[3m\u001b[90m<dbl>\u001b[39m\u001b[23m \u001b[3m\u001b[90m<dbl>\u001b[39m\u001b[23m \u001b[3m\u001b[90m<dbl>\u001b[39m\u001b[23m   \u001b[3m\u001b[90m<dbl>\u001b[39m\u001b[23m\n",
              "\u001b[90m1\u001b[39m  37.0  1.09  3.03    10.8\n",
              "\n",
              "$besagproper\n",
              "\u001b[90m# A tibble: 1 x 4\u001b[39m\n",
              "   rmse   rse  msle met_mae\n",
              "  \u001b[3m\u001b[90m<dbl>\u001b[39m\u001b[23m \u001b[3m\u001b[90m<dbl>\u001b[39m\u001b[23m \u001b[3m\u001b[90m<dbl>\u001b[39m\u001b[23m   \u001b[3m\u001b[90m<dbl>\u001b[39m\u001b[23m\n",
              "\u001b[90m1\u001b[39m  37.0  1.09  3.03    10.8\n",
              "\n",
              "$besag\n",
              "\u001b[90m# A tibble: 1 x 4\u001b[39m\n",
              "   rmse   rse  msle met_mae\n",
              "  \u001b[3m\u001b[90m<dbl>\u001b[39m\u001b[23m \u001b[3m\u001b[90m<dbl>\u001b[39m\u001b[23m \u001b[3m\u001b[90m<dbl>\u001b[39m\u001b[23m   \u001b[3m\u001b[90m<dbl>\u001b[39m\u001b[23m\n",
              "\u001b[90m1\u001b[39m  37.0  1.09  3.03    10.8\n",
              "\n",
              "$bym\n",
              "\u001b[90m# A tibble: 1 x 4\u001b[39m\n",
              "   rmse   rse  msle met_mae\n",
              "  \u001b[3m\u001b[90m<dbl>\u001b[39m\u001b[23m \u001b[3m\u001b[90m<dbl>\u001b[39m\u001b[23m \u001b[3m\u001b[90m<dbl>\u001b[39m\u001b[23m   \u001b[3m\u001b[90m<dbl>\u001b[39m\u001b[23m\n",
              "\u001b[90m1\u001b[39m  37.0  1.09  3.03    10.8\n",
              "\n",
              "$ar1\n",
              "\u001b[90m# A tibble: 1 x 4\u001b[39m\n",
              "   rmse   rse  msle met_mae\n",
              "  \u001b[3m\u001b[90m<dbl>\u001b[39m\u001b[23m \u001b[3m\u001b[90m<dbl>\u001b[39m\u001b[23m \u001b[3m\u001b[90m<dbl>\u001b[39m\u001b[23m   \u001b[3m\u001b[90m<dbl>\u001b[39m\u001b[23m\n",
              "\u001b[90m1\u001b[39m  37.0  1.09  3.03    10.8\n",
              "\n",
              "$rw1\n",
              "\u001b[90m# A tibble: 1 x 4\u001b[39m\n",
              "   rmse   rse  msle met_mae\n",
              "  \u001b[3m\u001b[90m<dbl>\u001b[39m\u001b[23m \u001b[3m\u001b[90m<dbl>\u001b[39m\u001b[23m \u001b[3m\u001b[90m<dbl>\u001b[39m\u001b[23m   \u001b[3m\u001b[90m<dbl>\u001b[39m\u001b[23m\n",
              "\u001b[90m1\u001b[39m  37.0  1.09  3.03    10.8\n",
              "\n",
              "$rw2\n",
              "\u001b[90m# A tibble: 1 x 4\u001b[39m\n",
              "   rmse   rse  msle met_mae\n",
              "  \u001b[3m\u001b[90m<dbl>\u001b[39m\u001b[23m \u001b[3m\u001b[90m<dbl>\u001b[39m\u001b[23m \u001b[3m\u001b[90m<dbl>\u001b[39m\u001b[23m   \u001b[3m\u001b[90m<dbl>\u001b[39m\u001b[23m\n",
              "\u001b[90m1\u001b[39m  37.0  1.09  3.03    10.8\n",
              "\n",
              "$`besagproper-rw1`\n",
              "\u001b[90m# A tibble: 1 x 4\u001b[39m\n",
              "          rmse     rse  msle      met_mae\n",
              "         \u001b[3m\u001b[90m<dbl>\u001b[39m\u001b[23m   \u001b[3m\u001b[90m<dbl>\u001b[39m\u001b[23m \u001b[3m\u001b[90m<dbl>\u001b[39m\u001b[23m        \u001b[3m\u001b[90m<dbl>\u001b[39m\u001b[23m\n",
              "\u001b[90m1\u001b[39m \u001b[4m9\u001b[24m\u001b[4m2\u001b[24m256\u001b[4m8\u001b[24m\u001b[4m1\u001b[24m\u001b[4m2\u001b[24m929. 6.79\u001b[90me\u001b[39m18  40.8 \u001b[4m1\u001b[24m\u001b[4m2\u001b[24m194\u001b[4m7\u001b[24m\u001b[4m4\u001b[24m\u001b[4m9\u001b[24m872.\n",
              "\n",
              "$`besag-rw1`\n",
              "\u001b[90m# A tibble: 1 x 4\u001b[39m\n",
              "     rmse      rse  msle met_mae\n",
              "    \u001b[3m\u001b[90m<dbl>\u001b[39m\u001b[23m    \u001b[3m\u001b[90m<dbl>\u001b[39m\u001b[23m \u001b[3m\u001b[90m<dbl>\u001b[39m\u001b[23m   \u001b[3m\u001b[90m<dbl>\u001b[39m\u001b[23m\n",
              "\u001b[90m1\u001b[39m 2.61\u001b[90me\u001b[39m80 5.43\u001b[90me\u001b[39m157 \u001b[4m1\u001b[24m999. 2.44\u001b[90me\u001b[39m79\n",
              "\n",
              "$`bym-rw1`\n",
              "\u001b[90m# A tibble: 1 x 4\u001b[39m\n",
              "   rmse   rse  msle met_mae\n",
              "  \u001b[3m\u001b[90m<dbl>\u001b[39m\u001b[23m \u001b[3m\u001b[90m<dbl>\u001b[39m\u001b[23m \u001b[3m\u001b[90m<dbl>\u001b[39m\u001b[23m   \u001b[3m\u001b[90m<dbl>\u001b[39m\u001b[23m\n",
              "\u001b[90m1\u001b[39m  37.0  1.09  3.02    10.8\n",
              "\n",
              "$`besagproper-rw2`\n",
              "\u001b[90m# A tibble: 1 x 4\u001b[39m\n",
              "   rmse   rse  msle met_mae\n",
              "  \u001b[3m\u001b[90m<dbl>\u001b[39m\u001b[23m \u001b[3m\u001b[90m<dbl>\u001b[39m\u001b[23m \u001b[3m\u001b[90m<dbl>\u001b[39m\u001b[23m   \u001b[3m\u001b[90m<dbl>\u001b[39m\u001b[23m\n",
              "\u001b[90m1\u001b[39m  37.0  1.09  3.02    10.8\n",
              "\n",
              "$`besag-rw2`\n",
              "\u001b[90m# A tibble: 1 x 4\u001b[39m\n",
              "   rmse   rse  msle met_mae\n",
              "  \u001b[3m\u001b[90m<dbl>\u001b[39m\u001b[23m \u001b[3m\u001b[90m<dbl>\u001b[39m\u001b[23m \u001b[3m\u001b[90m<dbl>\u001b[39m\u001b[23m   \u001b[3m\u001b[90m<dbl>\u001b[39m\u001b[23m\n",
              "\u001b[90m1\u001b[39m  37.0  1.09  3.02    10.8\n",
              "\n",
              "$`bym-rw2`\n",
              "\u001b[90m# A tibble: 1 x 4\u001b[39m\n",
              "   rmse   rse  msle met_mae\n",
              "  \u001b[3m\u001b[90m<dbl>\u001b[39m\u001b[23m \u001b[3m\u001b[90m<dbl>\u001b[39m\u001b[23m \u001b[3m\u001b[90m<dbl>\u001b[39m\u001b[23m   \u001b[3m\u001b[90m<dbl>\u001b[39m\u001b[23m\n",
              "\u001b[90m1\u001b[39m  37.0  1.09  3.02    10.8\n"
            ],
            "text/latex": "\\begin{description}\n\\item[\\$iid] A tibble: 1 × 4\n\\begin{tabular}{llll}\n rmse & rse & msle & met\\_mae\\\\\n <dbl> & <dbl> & <dbl> & <dbl>\\\\\n\\hline\n\t 37.01142 & 1.092597 & 3.025404 & 10.78031\\\\\n\\end{tabular}\n\n\\item[\\$besagproper] A tibble: 1 × 4\n\\begin{tabular}{llll}\n rmse & rse & msle & met\\_mae\\\\\n <dbl> & <dbl> & <dbl> & <dbl>\\\\\n\\hline\n\t 37.01142 & 1.092597 & 3.025416 & 10.78031\\\\\n\\end{tabular}\n\n\\item[\\$besag] A tibble: 1 × 4\n\\begin{tabular}{llll}\n rmse & rse & msle & met\\_mae\\\\\n <dbl> & <dbl> & <dbl> & <dbl>\\\\\n\\hline\n\t 37.01142 & 1.092597 & 3.025419 & 10.78031\\\\\n\\end{tabular}\n\n\\item[\\$bym] A tibble: 1 × 4\n\\begin{tabular}{llll}\n rmse & rse & msle & met\\_mae\\\\\n <dbl> & <dbl> & <dbl> & <dbl>\\\\\n\\hline\n\t 37.01142 & 1.092597 & 3.025406 & 10.78031\\\\\n\\end{tabular}\n\n\\item[\\$ar1] A tibble: 1 × 4\n\\begin{tabular}{llll}\n rmse & rse & msle & met\\_mae\\\\\n <dbl> & <dbl> & <dbl> & <dbl>\\\\\n\\hline\n\t 37.01141 & 1.092597 & 3.025404 & 10.78031\\\\\n\\end{tabular}\n\n\\item[\\$rw1] A tibble: 1 × 4\n\\begin{tabular}{llll}\n rmse & rse & msle & met\\_mae\\\\\n <dbl> & <dbl> & <dbl> & <dbl>\\\\\n\\hline\n\t 37.0114 & 1.092596 & 3.025391 & 10.78031\\\\\n\\end{tabular}\n\n\\item[\\$rw2] A tibble: 1 × 4\n\\begin{tabular}{llll}\n rmse & rse & msle & met\\_mae\\\\\n <dbl> & <dbl> & <dbl> & <dbl>\\\\\n\\hline\n\t 37.01289 & 1.092684 & 3.030559 & 10.78087\\\\\n\\end{tabular}\n\n\\item[\\$`besagproper-rw1`] A tibble: 1 × 4\n\\begin{tabular}{llll}\n rmse & rse & msle & met\\_mae\\\\\n <dbl> & <dbl> & <dbl> & <dbl>\\\\\n\\hline\n\t 92256812929 & 6.788681e+18 & 40.81133 & 12194749872\\\\\n\\end{tabular}\n\n\\item[\\$`besag-rw1`] A tibble: 1 × 4\n\\begin{tabular}{llll}\n rmse & rse & msle & met\\_mae\\\\\n <dbl> & <dbl> & <dbl> & <dbl>\\\\\n\\hline\n\t 2.60883e+80 & 5.428502e+157 & 1999.479 & 2.440121e+79\\\\\n\\end{tabular}\n\n\\item[\\$`bym-rw1`] A tibble: 1 × 4\n\\begin{tabular}{llll}\n rmse & rse & msle & met\\_mae\\\\\n <dbl> & <dbl> & <dbl> & <dbl>\\\\\n\\hline\n\t 37.01127 & 1.092588 & 3.024869 & 10.78017\\\\\n\\end{tabular}\n\n\\item[\\$`besagproper-rw2`] A tibble: 1 × 4\n\\begin{tabular}{llll}\n rmse & rse & msle & met\\_mae\\\\\n <dbl> & <dbl> & <dbl> & <dbl>\\\\\n\\hline\n\t 37.01127 & 1.092588 & 3.024881 & 10.78018\\\\\n\\end{tabular}\n\n\\item[\\$`besag-rw2`] A tibble: 1 × 4\n\\begin{tabular}{llll}\n rmse & rse & msle & met\\_mae\\\\\n <dbl> & <dbl> & <dbl> & <dbl>\\\\\n\\hline\n\t 37.01128 & 1.092589 & 3.024914 & 10.78018\\\\\n\\end{tabular}\n\n\\item[\\$`bym-rw2`] A tibble: 1 × 4\n\\begin{tabular}{llll}\n rmse & rse & msle & met\\_mae\\\\\n <dbl> & <dbl> & <dbl> & <dbl>\\\\\n\\hline\n\t 37.01126 & 1.092588 & 3.024826 & 10.78017\\\\\n\\end{tabular}\n\n\\end{description}\n",
            "text/markdown": "$iid\n:   \nA tibble: 1 × 4\n\n| rmse &lt;dbl&gt; | rse &lt;dbl&gt; | msle &lt;dbl&gt; | met_mae &lt;dbl&gt; |\n|---|---|---|---|\n| 37.01142 | 1.092597 | 3.025404 | 10.78031 |\n\n\n$besagproper\n:   \nA tibble: 1 × 4\n\n| rmse &lt;dbl&gt; | rse &lt;dbl&gt; | msle &lt;dbl&gt; | met_mae &lt;dbl&gt; |\n|---|---|---|---|\n| 37.01142 | 1.092597 | 3.025416 | 10.78031 |\n\n\n$besag\n:   \nA tibble: 1 × 4\n\n| rmse &lt;dbl&gt; | rse &lt;dbl&gt; | msle &lt;dbl&gt; | met_mae &lt;dbl&gt; |\n|---|---|---|---|\n| 37.01142 | 1.092597 | 3.025419 | 10.78031 |\n\n\n$bym\n:   \nA tibble: 1 × 4\n\n| rmse &lt;dbl&gt; | rse &lt;dbl&gt; | msle &lt;dbl&gt; | met_mae &lt;dbl&gt; |\n|---|---|---|---|\n| 37.01142 | 1.092597 | 3.025406 | 10.78031 |\n\n\n$ar1\n:   \nA tibble: 1 × 4\n\n| rmse &lt;dbl&gt; | rse &lt;dbl&gt; | msle &lt;dbl&gt; | met_mae &lt;dbl&gt; |\n|---|---|---|---|\n| 37.01141 | 1.092597 | 3.025404 | 10.78031 |\n\n\n$rw1\n:   \nA tibble: 1 × 4\n\n| rmse &lt;dbl&gt; | rse &lt;dbl&gt; | msle &lt;dbl&gt; | met_mae &lt;dbl&gt; |\n|---|---|---|---|\n| 37.0114 | 1.092596 | 3.025391 | 10.78031 |\n\n\n$rw2\n:   \nA tibble: 1 × 4\n\n| rmse &lt;dbl&gt; | rse &lt;dbl&gt; | msle &lt;dbl&gt; | met_mae &lt;dbl&gt; |\n|---|---|---|---|\n| 37.01289 | 1.092684 | 3.030559 | 10.78087 |\n\n\n$`besagproper-rw1`\n:   \nA tibble: 1 × 4\n\n| rmse &lt;dbl&gt; | rse &lt;dbl&gt; | msle &lt;dbl&gt; | met_mae &lt;dbl&gt; |\n|---|---|---|---|\n| 92256812929 | 6.788681e+18 | 40.81133 | 12194749872 |\n\n\n$`besag-rw1`\n:   \nA tibble: 1 × 4\n\n| rmse &lt;dbl&gt; | rse &lt;dbl&gt; | msle &lt;dbl&gt; | met_mae &lt;dbl&gt; |\n|---|---|---|---|\n| 2.60883e+80 | 5.428502e+157 | 1999.479 | 2.440121e+79 |\n\n\n$`bym-rw1`\n:   \nA tibble: 1 × 4\n\n| rmse &lt;dbl&gt; | rse &lt;dbl&gt; | msle &lt;dbl&gt; | met_mae &lt;dbl&gt; |\n|---|---|---|---|\n| 37.01127 | 1.092588 | 3.024869 | 10.78017 |\n\n\n$`besagproper-rw2`\n:   \nA tibble: 1 × 4\n\n| rmse &lt;dbl&gt; | rse &lt;dbl&gt; | msle &lt;dbl&gt; | met_mae &lt;dbl&gt; |\n|---|---|---|---|\n| 37.01127 | 1.092588 | 3.024881 | 10.78018 |\n\n\n$`besag-rw2`\n:   \nA tibble: 1 × 4\n\n| rmse &lt;dbl&gt; | rse &lt;dbl&gt; | msle &lt;dbl&gt; | met_mae &lt;dbl&gt; |\n|---|---|---|---|\n| 37.01128 | 1.092589 | 3.024914 | 10.78018 |\n\n\n$`bym-rw2`\n:   \nA tibble: 1 × 4\n\n| rmse &lt;dbl&gt; | rse &lt;dbl&gt; | msle &lt;dbl&gt; | met_mae &lt;dbl&gt; |\n|---|---|---|---|\n| 37.01126 | 1.092588 | 3.024826 | 10.78017 |\n\n\n\n\n",
            "text/html": [
              "<dl>\n",
              "\t<dt>$iid</dt>\n",
              "\t\t<dd><table class=\"dataframe\">\n",
              "<caption>A tibble: 1 × 4</caption>\n",
              "<thead>\n",
              "\t<tr><th scope=col>rmse</th><th scope=col>rse</th><th scope=col>msle</th><th scope=col>met_mae</th></tr>\n",
              "\t<tr><th scope=col>&lt;dbl&gt;</th><th scope=col>&lt;dbl&gt;</th><th scope=col>&lt;dbl&gt;</th><th scope=col>&lt;dbl&gt;</th></tr>\n",
              "</thead>\n",
              "<tbody>\n",
              "\t<tr><td>37.01142</td><td>1.092597</td><td>3.025404</td><td>10.78031</td></tr>\n",
              "</tbody>\n",
              "</table>\n",
              "</dd>\n",
              "\t<dt>$besagproper</dt>\n",
              "\t\t<dd><table class=\"dataframe\">\n",
              "<caption>A tibble: 1 × 4</caption>\n",
              "<thead>\n",
              "\t<tr><th scope=col>rmse</th><th scope=col>rse</th><th scope=col>msle</th><th scope=col>met_mae</th></tr>\n",
              "\t<tr><th scope=col>&lt;dbl&gt;</th><th scope=col>&lt;dbl&gt;</th><th scope=col>&lt;dbl&gt;</th><th scope=col>&lt;dbl&gt;</th></tr>\n",
              "</thead>\n",
              "<tbody>\n",
              "\t<tr><td>37.01142</td><td>1.092597</td><td>3.025416</td><td>10.78031</td></tr>\n",
              "</tbody>\n",
              "</table>\n",
              "</dd>\n",
              "\t<dt>$besag</dt>\n",
              "\t\t<dd><table class=\"dataframe\">\n",
              "<caption>A tibble: 1 × 4</caption>\n",
              "<thead>\n",
              "\t<tr><th scope=col>rmse</th><th scope=col>rse</th><th scope=col>msle</th><th scope=col>met_mae</th></tr>\n",
              "\t<tr><th scope=col>&lt;dbl&gt;</th><th scope=col>&lt;dbl&gt;</th><th scope=col>&lt;dbl&gt;</th><th scope=col>&lt;dbl&gt;</th></tr>\n",
              "</thead>\n",
              "<tbody>\n",
              "\t<tr><td>37.01142</td><td>1.092597</td><td>3.025419</td><td>10.78031</td></tr>\n",
              "</tbody>\n",
              "</table>\n",
              "</dd>\n",
              "\t<dt>$bym</dt>\n",
              "\t\t<dd><table class=\"dataframe\">\n",
              "<caption>A tibble: 1 × 4</caption>\n",
              "<thead>\n",
              "\t<tr><th scope=col>rmse</th><th scope=col>rse</th><th scope=col>msle</th><th scope=col>met_mae</th></tr>\n",
              "\t<tr><th scope=col>&lt;dbl&gt;</th><th scope=col>&lt;dbl&gt;</th><th scope=col>&lt;dbl&gt;</th><th scope=col>&lt;dbl&gt;</th></tr>\n",
              "</thead>\n",
              "<tbody>\n",
              "\t<tr><td>37.01142</td><td>1.092597</td><td>3.025406</td><td>10.78031</td></tr>\n",
              "</tbody>\n",
              "</table>\n",
              "</dd>\n",
              "\t<dt>$ar1</dt>\n",
              "\t\t<dd><table class=\"dataframe\">\n",
              "<caption>A tibble: 1 × 4</caption>\n",
              "<thead>\n",
              "\t<tr><th scope=col>rmse</th><th scope=col>rse</th><th scope=col>msle</th><th scope=col>met_mae</th></tr>\n",
              "\t<tr><th scope=col>&lt;dbl&gt;</th><th scope=col>&lt;dbl&gt;</th><th scope=col>&lt;dbl&gt;</th><th scope=col>&lt;dbl&gt;</th></tr>\n",
              "</thead>\n",
              "<tbody>\n",
              "\t<tr><td>37.01141</td><td>1.092597</td><td>3.025404</td><td>10.78031</td></tr>\n",
              "</tbody>\n",
              "</table>\n",
              "</dd>\n",
              "\t<dt>$rw1</dt>\n",
              "\t\t<dd><table class=\"dataframe\">\n",
              "<caption>A tibble: 1 × 4</caption>\n",
              "<thead>\n",
              "\t<tr><th scope=col>rmse</th><th scope=col>rse</th><th scope=col>msle</th><th scope=col>met_mae</th></tr>\n",
              "\t<tr><th scope=col>&lt;dbl&gt;</th><th scope=col>&lt;dbl&gt;</th><th scope=col>&lt;dbl&gt;</th><th scope=col>&lt;dbl&gt;</th></tr>\n",
              "</thead>\n",
              "<tbody>\n",
              "\t<tr><td>37.0114</td><td>1.092596</td><td>3.025391</td><td>10.78031</td></tr>\n",
              "</tbody>\n",
              "</table>\n",
              "</dd>\n",
              "\t<dt>$rw2</dt>\n",
              "\t\t<dd><table class=\"dataframe\">\n",
              "<caption>A tibble: 1 × 4</caption>\n",
              "<thead>\n",
              "\t<tr><th scope=col>rmse</th><th scope=col>rse</th><th scope=col>msle</th><th scope=col>met_mae</th></tr>\n",
              "\t<tr><th scope=col>&lt;dbl&gt;</th><th scope=col>&lt;dbl&gt;</th><th scope=col>&lt;dbl&gt;</th><th scope=col>&lt;dbl&gt;</th></tr>\n",
              "</thead>\n",
              "<tbody>\n",
              "\t<tr><td>37.01289</td><td>1.092684</td><td>3.030559</td><td>10.78087</td></tr>\n",
              "</tbody>\n",
              "</table>\n",
              "</dd>\n",
              "\t<dt>$`besagproper-rw1`</dt>\n",
              "\t\t<dd><table class=\"dataframe\">\n",
              "<caption>A tibble: 1 × 4</caption>\n",
              "<thead>\n",
              "\t<tr><th scope=col>rmse</th><th scope=col>rse</th><th scope=col>msle</th><th scope=col>met_mae</th></tr>\n",
              "\t<tr><th scope=col>&lt;dbl&gt;</th><th scope=col>&lt;dbl&gt;</th><th scope=col>&lt;dbl&gt;</th><th scope=col>&lt;dbl&gt;</th></tr>\n",
              "</thead>\n",
              "<tbody>\n",
              "\t<tr><td>92256812929</td><td>6.788681e+18</td><td>40.81133</td><td>12194749872</td></tr>\n",
              "</tbody>\n",
              "</table>\n",
              "</dd>\n",
              "\t<dt>$`besag-rw1`</dt>\n",
              "\t\t<dd><table class=\"dataframe\">\n",
              "<caption>A tibble: 1 × 4</caption>\n",
              "<thead>\n",
              "\t<tr><th scope=col>rmse</th><th scope=col>rse</th><th scope=col>msle</th><th scope=col>met_mae</th></tr>\n",
              "\t<tr><th scope=col>&lt;dbl&gt;</th><th scope=col>&lt;dbl&gt;</th><th scope=col>&lt;dbl&gt;</th><th scope=col>&lt;dbl&gt;</th></tr>\n",
              "</thead>\n",
              "<tbody>\n",
              "\t<tr><td>2.60883e+80</td><td>5.428502e+157</td><td>1999.479</td><td>2.440121e+79</td></tr>\n",
              "</tbody>\n",
              "</table>\n",
              "</dd>\n",
              "\t<dt>$`bym-rw1`</dt>\n",
              "\t\t<dd><table class=\"dataframe\">\n",
              "<caption>A tibble: 1 × 4</caption>\n",
              "<thead>\n",
              "\t<tr><th scope=col>rmse</th><th scope=col>rse</th><th scope=col>msle</th><th scope=col>met_mae</th></tr>\n",
              "\t<tr><th scope=col>&lt;dbl&gt;</th><th scope=col>&lt;dbl&gt;</th><th scope=col>&lt;dbl&gt;</th><th scope=col>&lt;dbl&gt;</th></tr>\n",
              "</thead>\n",
              "<tbody>\n",
              "\t<tr><td>37.01127</td><td>1.092588</td><td>3.024869</td><td>10.78017</td></tr>\n",
              "</tbody>\n",
              "</table>\n",
              "</dd>\n",
              "\t<dt>$`besagproper-rw2`</dt>\n",
              "\t\t<dd><table class=\"dataframe\">\n",
              "<caption>A tibble: 1 × 4</caption>\n",
              "<thead>\n",
              "\t<tr><th scope=col>rmse</th><th scope=col>rse</th><th scope=col>msle</th><th scope=col>met_mae</th></tr>\n",
              "\t<tr><th scope=col>&lt;dbl&gt;</th><th scope=col>&lt;dbl&gt;</th><th scope=col>&lt;dbl&gt;</th><th scope=col>&lt;dbl&gt;</th></tr>\n",
              "</thead>\n",
              "<tbody>\n",
              "\t<tr><td>37.01127</td><td>1.092588</td><td>3.024881</td><td>10.78018</td></tr>\n",
              "</tbody>\n",
              "</table>\n",
              "</dd>\n",
              "\t<dt>$`besag-rw2`</dt>\n",
              "\t\t<dd><table class=\"dataframe\">\n",
              "<caption>A tibble: 1 × 4</caption>\n",
              "<thead>\n",
              "\t<tr><th scope=col>rmse</th><th scope=col>rse</th><th scope=col>msle</th><th scope=col>met_mae</th></tr>\n",
              "\t<tr><th scope=col>&lt;dbl&gt;</th><th scope=col>&lt;dbl&gt;</th><th scope=col>&lt;dbl&gt;</th><th scope=col>&lt;dbl&gt;</th></tr>\n",
              "</thead>\n",
              "<tbody>\n",
              "\t<tr><td>37.01128</td><td>1.092589</td><td>3.024914</td><td>10.78018</td></tr>\n",
              "</tbody>\n",
              "</table>\n",
              "</dd>\n",
              "\t<dt>$`bym-rw2`</dt>\n",
              "\t\t<dd><table class=\"dataframe\">\n",
              "<caption>A tibble: 1 × 4</caption>\n",
              "<thead>\n",
              "\t<tr><th scope=col>rmse</th><th scope=col>rse</th><th scope=col>msle</th><th scope=col>met_mae</th></tr>\n",
              "\t<tr><th scope=col>&lt;dbl&gt;</th><th scope=col>&lt;dbl&gt;</th><th scope=col>&lt;dbl&gt;</th><th scope=col>&lt;dbl&gt;</th></tr>\n",
              "</thead>\n",
              "<tbody>\n",
              "\t<tr><td>37.01126</td><td>1.092588</td><td>3.024826</td><td>10.78017</td></tr>\n",
              "</tbody>\n",
              "</table>\n",
              "</dd>\n",
              "</dl>\n"
            ]
          },
          "metadata": {
            "tags": []
          }
        }
      ]
    },
    {
      "cell_type": "markdown",
      "metadata": {
        "id": "OhN4mEKnKqcD"
      },
      "source": [
        "##7.Export models and metrics"
      ]
    },
    {
      "cell_type": "code",
      "metadata": {
        "id": "344kKyzPKqAS"
      },
      "source": [
        "saveRDS(model_types,'/content/resultados_distritos_inla.rds')\n",
        "saveRDS(model_metricas,'/content/metricas_distritos_inla.rds')"
      ],
      "execution_count": 12,
      "outputs": []
    }
  ]
}