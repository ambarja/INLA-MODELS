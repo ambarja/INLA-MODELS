{
  "nbformat": 4,
  "nbformat_minor": 0,
  "metadata": {
    "colab": {
      "name": "R.ipynb",
      "provenance": [],
      "include_colab_link": true
    },
    "kernelspec": {
      "name": "ir",
      "display_name": "R"
    }
  },
  "cells": [
    {
      "cell_type": "markdown",
      "metadata": {
        "id": "view-in-github",
        "colab_type": "text"
      },
      "source": [
        "<a href=\"https://colab.research.google.com/github/ambarja/INLA-MODELS/blob/main/inla_models.ipynb\" target=\"_parent\"><img src=\"https://colab.research.google.com/assets/colab-badge.svg\" alt=\"Open In Colab\"/></a>"
      ]
    },
    {
      "cell_type": "markdown",
      "metadata": {
        "id": "Fut9xFpju1d_"
      },
      "source": [
        "<img align=\"left\" style=\"padding-right:10px;\" src=\"https://avatars.githubusercontent.com/u/46831228?s=200&v=4\" width=10% ><img align=\"right\" style=\"padding-left:10px;\" src=\"https://colab.research.google.com/img/colab_favicon.ico\" width=10% >\n",
        "<p><b><h2 align =\"center\">Malaria Hydrobasins project</h2></b></p>\n",
        "<p>Este proyecto tiene como objetivo analizar de forma espacial y temporal las tasas de malaria en la región de Loreto a nivel distrital y microcuenas empleando modelos bayesianos como INLA. <img src = 'https://img.shields.io/github/license/Naereen/StrapDown.js.svg' href='https://github.com/Naereen/StrapDown.js/blob/master/LICENSE'> </p>\n"
      ]
    },
    {
      "cell_type": "code",
      "metadata": {
        "id": "IdxR6WIQY-TI",
        "cellView": "form"
      },
      "source": [
        "#@title **Install packages main. It takes aprox. 10 min**\n",
        "system('sudo add-apt-repository ppa:ubuntugis/ubuntugis-unstable')\n",
        "system('sudo apt-get update')\n",
        "system('sudo apt-get install libudunits2-dev libgdal-dev libgeos-dev libproj-dev')\n",
        "system('sudo apt-get install libprotobuf-dev protobuf-compiler libv8-dev libjq-dev')\n",
        "install.packages('sf')\n",
        "install.packages('tidyverse')\n",
        "install.packages(\"INLA\",repos=c(getOption(\"repos\"),INLA=\"https://inla.r-inla-download.org/R/testing\"), dep=TRUE)\n",
        "install.packages('spdep')\n",
        "install.packages('Metrics')\n",
        "install.packages('spatialreg')"
      ],
      "execution_count": null,
      "outputs": []
    },
    {
      "cell_type": "code",
      "metadata": {
        "id": "fOLim2ax4OU_",
        "cellView": "form"
      },
      "source": [
        "#@title **functions - inla_utils**\n",
        "inla_function <- function(data, eq) {\n",
        "  result <- inla(eq,\n",
        "    family = \"nbinomial\",\n",
        "    verbose = F,\n",
        "    data = data,\n",
        "    E = nrohab,\n",
        "    control.compute = list(dic = TRUE, waic = TRUE, cpo = TRUE),\n",
        "    control.predictor = list(compute = TRUE, link = 1)\n",
        "  )\n",
        "}\n",
        "\n",
        "\n",
        "metricas_error <- function(data, model){\n",
        "  data$pred <- model$summary.fitted.values$`0.5quant`\n",
        "  met_rmse <- rmse(actual = data$fal , predicted = data$pred)\n",
        "  met_rse  <- rse(actual = data$fal , predicted = data$pred)\n",
        "  met_msle <- msle(actual = data$fal , predicted = data$pred)\n",
        "  met_mae <- mae(actual = data$fal , predicted = data$pred)\n",
        "  met_tabla <- tibble(rmse = met_rmse, rse = met_rse, msle = met_msle, mae = met_mae)\n",
        "  return(met_tabla)\n",
        "}\n"
      ],
      "execution_count": 18,
      "outputs": []
    },
    {
      "cell_type": "code",
      "metadata": {
        "id": "uKtyJPA2iDja"
      },
      "source": [
        "library(sf)\n",
        "library(INLA)\n",
        "library(tidyverse)\n",
        "library(purrr)\n",
        "library(spdep)\n",
        "library(Metrics)"
      ],
      "execution_count": 3,
      "outputs": []
    },
    {
      "cell_type": "markdown",
      "metadata": {
        "id": "HomFmcecCegH"
      },
      "source": [
        "##1.Reading to dataset and spatial data"
      ]
    },
    {
      "cell_type": "code",
      "metadata": {
        "id": "DlRuACg5BxiM"
      },
      "source": [
        "spatial <- read_rds(\"/content/sp_district.rds\")\n",
        "dataset <- read_rds(\"/content/alldataset_district.rds\") %>% mutate(month = as.integer(month))"
      ],
      "execution_count": 4,
      "outputs": []
    },
    {
      "cell_type": "markdown",
      "metadata": {
        "id": "VFgDndH2B01X"
      },
      "source": [
        "##2.Calculate the neighborhood matrix"
      ]
    },
    {
      "cell_type": "code",
      "metadata": {
        "id": "XgG7y8NfByX5",
        "colab": {
          "base_uri": "https://localhost:8080/"
        },
        "outputId": "6e00d656-98a9-437f-964c-348749cd4ba9"
      },
      "source": [
        "nb <- poly2nb(spatial)\n",
        "g <- inla.read.graph(nb)"
      ],
      "execution_count": 5,
      "outputs": [
        {
          "output_type": "stream",
          "text": [
            "Registered S3 methods overwritten by 'spatialreg':\n",
            "  method                   from \n",
            "  residuals.stsls          spdep\n",
            "  deviance.stsls           spdep\n",
            "  coef.stsls               spdep\n",
            "  print.stsls              spdep\n",
            "  summary.stsls            spdep\n",
            "  print.summary.stsls      spdep\n",
            "  residuals.gmsar          spdep\n",
            "  deviance.gmsar           spdep\n",
            "  coef.gmsar               spdep\n",
            "  fitted.gmsar             spdep\n",
            "  print.gmsar              spdep\n",
            "  summary.gmsar            spdep\n",
            "  print.summary.gmsar      spdep\n",
            "  print.lagmess            spdep\n",
            "  summary.lagmess          spdep\n",
            "  print.summary.lagmess    spdep\n",
            "  residuals.lagmess        spdep\n",
            "  deviance.lagmess         spdep\n",
            "  coef.lagmess             spdep\n",
            "  fitted.lagmess           spdep\n",
            "  logLik.lagmess           spdep\n",
            "  fitted.SFResult          spdep\n",
            "  print.SFResult           spdep\n",
            "  fitted.ME_res            spdep\n",
            "  print.ME_res             spdep\n",
            "  print.lagImpact          spdep\n",
            "  plot.lagImpact           spdep\n",
            "  summary.lagImpact        spdep\n",
            "  HPDinterval.lagImpact    spdep\n",
            "  print.summary.lagImpact  spdep\n",
            "  print.sarlm              spdep\n",
            "  summary.sarlm            spdep\n",
            "  residuals.sarlm          spdep\n",
            "  deviance.sarlm           spdep\n",
            "  coef.sarlm               spdep\n",
            "  vcov.sarlm               spdep\n",
            "  fitted.sarlm             spdep\n",
            "  logLik.sarlm             spdep\n",
            "  anova.sarlm              spdep\n",
            "  predict.sarlm            spdep\n",
            "  print.summary.sarlm      spdep\n",
            "  print.sarlm.pred         spdep\n",
            "  as.data.frame.sarlm.pred spdep\n",
            "  residuals.spautolm       spdep\n",
            "  deviance.spautolm        spdep\n",
            "  coef.spautolm            spdep\n",
            "  fitted.spautolm          spdep\n",
            "  print.spautolm           spdep\n",
            "  summary.spautolm         spdep\n",
            "  logLik.spautolm          spdep\n",
            "  print.summary.spautolm   spdep\n",
            "  print.WXImpact           spdep\n",
            "  summary.WXImpact         spdep\n",
            "  print.summary.WXImpact   spdep\n",
            "  predict.SLX              spdep\n",
            "\n"
          ],
          "name": "stderr"
        }
      ]
    },
    {
      "cell_type": "markdown",
      "metadata": {
        "id": "MjGaFFzmDfwP"
      },
      "source": [
        "##3.Models spatial, temporal and spatial-*temporal*"
      ]
    },
    {
      "cell_type": "code",
      "metadata": {
        "id": "TtML9qvJDPqw"
      },
      "source": [
        "types <- c(\n",
        "  # model random iid\n",
        "  formula = fal ~ esco + etp + evi + hsoil + ndvi + pp + savi + temp +\n",
        "    f(new_id, model = \"iid\", graph = g),\n",
        "\n",
        "  # model spatial type besagproper\n",
        "  formula = fal ~ esco + etp + evi  + hsoil + ndvi + pp + savi + temp +\n",
        "    f(new_id, model = \"besagproper\", graph = g),\n",
        "\n",
        "  # model spatial type besag\n",
        "  formula = fal ~ esco + etp + evi + hsoil + ndvi + pp + savi + temp +\n",
        "    f(new_id, model = \"besag\", graph = g),\n",
        "\n",
        "  # model spatial type bym\n",
        "  formula = fal ~ esco + etp + evi + hsoil + ndvi + pp + savi + temp +\n",
        "    f(new_id, model = \"bym\", graph = g),\n",
        "\n",
        "  # model temporal ar1\n",
        "  formula = fal ~ esco + etp + evi  + hsoil + ndvi + pp + savi + temp +\n",
        "    f(new_id, model = \"ar1\", graph = g),\n",
        "\n",
        "  # model temporal rw1\n",
        "  formula = fal ~ esco + etp + evi  + hsoil + ndvi + pp + savi + temp +\n",
        "    f(new_id, model = \"rw1\", graph = g),\n",
        "\n",
        "  # model temporal rw2\n",
        "  formula = fal ~ esco + etp + evi  + hsoil + ndvi + pp + savi + temp +\n",
        "    f(new_id, model = \"rw2\", graph = g),\n",
        "\n",
        "  # model spatial-temporal (besagproper-rw1)\n",
        "  formula = fal ~ esco + etp + evi  + hsoil + ndvi + pp + savi + temp +\n",
        "    f(new_id, model = \"besagproper\", graph = g) + f(year, model = \"rw1\") + f(month, model = \"iid\"),\n",
        "\n",
        "  # model spatial-temporal (besag - rw1)\n",
        "  formula = fal ~ esco + etp + evi  + hsoil + ndvi + pp + savi + temp +\n",
        "    f(new_id, model = \"besag\", graph = g) + f(year, model = \"rw1\") + f(month, model = \"iid\"),\n",
        "\n",
        "  # model spatial-temporal (bym - rw1)\n",
        "  formula = fal ~ esco + etp + evi + hsoil + ndvi + pp + savi + temp +\n",
        "    f(new_id, model = \"bym\", graph = g) + f(year, model = \"rw1\") + f(month, model = \"iid\"),\n",
        "\n",
        "  # model spatial-temporal (besagproper-rw2)\n",
        "  formula = fal ~ esco + etp + evi + hsoil + ndvi + pp + savi + temp +\n",
        "    f(new_id, model = \"besagproper\", graph = g) + f(year, model = \"rw2\") + f(month, model = \"iid\"),\n",
        "\n",
        "  # model spatial-temporal (besag - rw2)\n",
        "  formula = fal ~ esco + etp + evi + hsoil + ndvi + pp + savi + temp +\n",
        "    f(new_id, model = \"besag\", graph = g) + f(year, model = \"rw2\") + f(month, model = \"iid\"),\n",
        "\n",
        "  # model spatial-temporal (bym - rw2)\n",
        "  formula = fal ~ esco + etp + evi  + hsoil + ndvi + pp + savi + temp +\n",
        "    f(new_id, model = \"bym\", graph = g) + f(year, model = \"rw2\") + f(month, model = \"iid\")\n",
        ")"
      ],
      "execution_count": 6,
      "outputs": []
    },
    {
      "cell_type": "markdown",
      "metadata": {
        "id": "W9mmLGa8D3OE"
      },
      "source": [
        "##4.Names of models"
      ]
    },
    {
      "cell_type": "code",
      "metadata": {
        "id": "NCVbkYbpDsy-"
      },
      "source": [
        "model_name <- c(\"iid\", \"besagproper\", \"besag\", \"bym\", \"ar1\", \"rw1\", \"rw2\",\n",
        "  \"besagproper-rw1\", \"besag-rw1\", \"bym-rw1\", \"besagproper-rw2\",\n",
        "  \"besag-rw2\", \"bym-rw2\")\n",
        "names(types) <- model_name"
      ],
      "execution_count": 7,
      "outputs": []
    },
    {
      "cell_type": "markdown",
      "metadata": {
        "id": "QD7e8rk4EBbc"
      },
      "source": [
        "##5.Run models"
      ]
    },
    {
      "cell_type": "code",
      "metadata": {
        "colab": {
          "base_uri": "https://localhost:8080/"
        },
        "id": "Ph-NlAdID2FN",
        "outputId": "0290c397-8f90-44e8-ea81-82efa37dd03b"
      },
      "source": [
        "model_types <- types %>% purrr::map(~ inla_function(data = dataset, eq = .))"
      ],
      "execution_count": 8,
      "outputs": [
        {
          "output_type": "stream",
          "text": [
            "Warning message in inla.model.properties.generic(inla.trim.family(model), mm[names(mm) == :\n",
            "“Model 'besagproper' in section 'latent' is marked as 'experimental'; changes may appear at any time.\n",
            "  Use this model with extra care!!! Further warnings are disabled.”\n"
          ],
          "name": "stderr"
        }
      ]
    },
    {
      "cell_type": "code",
      "metadata": {
        "colab": {
          "base_uri": "https://localhost:8080/",
          "height": 34
        },
        "id": "4xqEAXizKURp",
        "outputId": "5e8abf2d-fcb2-4156-d380-c4ce5c9e5e8c"
      },
      "source": [
        "class(model_types)"
      ],
      "execution_count": 9,
      "outputs": [
        {
          "output_type": "display_data",
          "data": {
            "text/plain": [
              "[1] \"list\""
            ],
            "text/latex": "'list'",
            "text/markdown": "'list'",
            "text/html": [
              "'list'"
            ]
          },
          "metadata": {
            "tags": []
          }
        }
      ]
    },
    {
      "cell_type": "markdown",
      "metadata": {
        "id": "jlBGCGp5KbMG"
      },
      "source": [
        "##6.Metrics"
      ]
    },
    {
      "cell_type": "code",
      "metadata": {
        "id": "4Dcf4-qHKaNX"
      },
      "source": [
        "model_metricas <- model_types %>% \n",
        "  purrr::map(~ metricas_error(data = dataset,model = .)) %>%\n",
        "  map_df(.f = data.frame,.id = 'names')"
      ],
      "execution_count": 19,
      "outputs": []
    },
    {
      "cell_type": "markdown",
      "metadata": {
        "id": "kbBtTf7Evs3x"
      },
      "source": [
        ""
      ]
    },
    {
      "cell_type": "code",
      "metadata": {
        "colab": {
          "base_uri": "https://localhost:8080/",
          "height": 500
        },
        "id": "FlZreVizKkkK",
        "outputId": "9b3dae3e-8c7d-41f0-ec20-1d49dd6f70ef"
      },
      "source": [
        "model_metricas"
      ],
      "execution_count": 20,
      "outputs": [
        {
          "output_type": "display_data",
          "data": {
            "text/plain": [
              "   names           rmse         rse           msle        mae         \n",
              "1  iid             3.701142e+01  1.092597e+00    3.025404 1.078031e+01\n",
              "2  besagproper     3.701142e+01  1.092597e+00    3.025416 1.078031e+01\n",
              "3  besag           3.701142e+01  1.092597e+00    3.025419 1.078031e+01\n",
              "4  bym             3.701142e+01  1.092597e+00    3.025406 1.078031e+01\n",
              "5  ar1             3.701141e+01  1.092597e+00    3.025404 1.078031e+01\n",
              "6  rw1             3.701140e+01  1.092596e+00    3.025391 1.078031e+01\n",
              "7  rw2             3.701289e+01  1.092684e+00    3.030559 1.078087e+01\n",
              "8  besagproper-rw1 9.225681e+10  6.788681e+18   40.811334 1.219475e+10\n",
              "9  besag-rw1       2.608830e+80 5.428502e+157 1999.478837 2.440121e+79\n",
              "10 bym-rw1         3.701127e+01  1.092588e+00    3.024869 1.078017e+01\n",
              "11 besagproper-rw2 3.701127e+01  1.092588e+00    3.024881 1.078018e+01\n",
              "12 besag-rw2       3.701128e+01  1.092589e+00    3.024914 1.078018e+01\n",
              "13 bym-rw2         3.701126e+01  1.092588e+00    3.024826 1.078017e+01"
            ],
            "text/latex": "A data.frame: 13 × 5\n\\begin{tabular}{lllll}\n names & rmse & rse & msle & mae\\\\\n <chr> & <dbl> & <dbl> & <dbl> & <dbl>\\\\\n\\hline\n\t iid             & 3.701142e+01 &  1.092597e+00 &    3.025404 & 1.078031e+01\\\\\n\t besagproper     & 3.701142e+01 &  1.092597e+00 &    3.025416 & 1.078031e+01\\\\\n\t besag           & 3.701142e+01 &  1.092597e+00 &    3.025419 & 1.078031e+01\\\\\n\t bym             & 3.701142e+01 &  1.092597e+00 &    3.025406 & 1.078031e+01\\\\\n\t ar1             & 3.701141e+01 &  1.092597e+00 &    3.025404 & 1.078031e+01\\\\\n\t rw1             & 3.701140e+01 &  1.092596e+00 &    3.025391 & 1.078031e+01\\\\\n\t rw2             & 3.701289e+01 &  1.092684e+00 &    3.030559 & 1.078087e+01\\\\\n\t besagproper-rw1 & 9.225681e+10 &  6.788681e+18 &   40.811334 & 1.219475e+10\\\\\n\t besag-rw1       & 2.608830e+80 & 5.428502e+157 & 1999.478837 & 2.440121e+79\\\\\n\t bym-rw1         & 3.701127e+01 &  1.092588e+00 &    3.024869 & 1.078017e+01\\\\\n\t besagproper-rw2 & 3.701127e+01 &  1.092588e+00 &    3.024881 & 1.078018e+01\\\\\n\t besag-rw2       & 3.701128e+01 &  1.092589e+00 &    3.024914 & 1.078018e+01\\\\\n\t bym-rw2         & 3.701126e+01 &  1.092588e+00 &    3.024826 & 1.078017e+01\\\\\n\\end{tabular}\n",
            "text/markdown": "\nA data.frame: 13 × 5\n\n| names &lt;chr&gt; | rmse &lt;dbl&gt; | rse &lt;dbl&gt; | msle &lt;dbl&gt; | mae &lt;dbl&gt; |\n|---|---|---|---|---|\n| iid             | 3.701142e+01 |  1.092597e+00 |    3.025404 | 1.078031e+01 |\n| besagproper     | 3.701142e+01 |  1.092597e+00 |    3.025416 | 1.078031e+01 |\n| besag           | 3.701142e+01 |  1.092597e+00 |    3.025419 | 1.078031e+01 |\n| bym             | 3.701142e+01 |  1.092597e+00 |    3.025406 | 1.078031e+01 |\n| ar1             | 3.701141e+01 |  1.092597e+00 |    3.025404 | 1.078031e+01 |\n| rw1             | 3.701140e+01 |  1.092596e+00 |    3.025391 | 1.078031e+01 |\n| rw2             | 3.701289e+01 |  1.092684e+00 |    3.030559 | 1.078087e+01 |\n| besagproper-rw1 | 9.225681e+10 |  6.788681e+18 |   40.811334 | 1.219475e+10 |\n| besag-rw1       | 2.608830e+80 | 5.428502e+157 | 1999.478837 | 2.440121e+79 |\n| bym-rw1         | 3.701127e+01 |  1.092588e+00 |    3.024869 | 1.078017e+01 |\n| besagproper-rw2 | 3.701127e+01 |  1.092588e+00 |    3.024881 | 1.078018e+01 |\n| besag-rw2       | 3.701128e+01 |  1.092589e+00 |    3.024914 | 1.078018e+01 |\n| bym-rw2         | 3.701126e+01 |  1.092588e+00 |    3.024826 | 1.078017e+01 |\n\n",
            "text/html": [
              "<table class=\"dataframe\">\n",
              "<caption>A data.frame: 13 × 5</caption>\n",
              "<thead>\n",
              "\t<tr><th scope=col>names</th><th scope=col>rmse</th><th scope=col>rse</th><th scope=col>msle</th><th scope=col>mae</th></tr>\n",
              "\t<tr><th scope=col>&lt;chr&gt;</th><th scope=col>&lt;dbl&gt;</th><th scope=col>&lt;dbl&gt;</th><th scope=col>&lt;dbl&gt;</th><th scope=col>&lt;dbl&gt;</th></tr>\n",
              "</thead>\n",
              "<tbody>\n",
              "\t<tr><td>iid            </td><td>3.701142e+01</td><td> 1.092597e+00</td><td>   3.025404</td><td>1.078031e+01</td></tr>\n",
              "\t<tr><td>besagproper    </td><td>3.701142e+01</td><td> 1.092597e+00</td><td>   3.025416</td><td>1.078031e+01</td></tr>\n",
              "\t<tr><td>besag          </td><td>3.701142e+01</td><td> 1.092597e+00</td><td>   3.025419</td><td>1.078031e+01</td></tr>\n",
              "\t<tr><td>bym            </td><td>3.701142e+01</td><td> 1.092597e+00</td><td>   3.025406</td><td>1.078031e+01</td></tr>\n",
              "\t<tr><td>ar1            </td><td>3.701141e+01</td><td> 1.092597e+00</td><td>   3.025404</td><td>1.078031e+01</td></tr>\n",
              "\t<tr><td>rw1            </td><td>3.701140e+01</td><td> 1.092596e+00</td><td>   3.025391</td><td>1.078031e+01</td></tr>\n",
              "\t<tr><td>rw2            </td><td>3.701289e+01</td><td> 1.092684e+00</td><td>   3.030559</td><td>1.078087e+01</td></tr>\n",
              "\t<tr><td>besagproper-rw1</td><td>9.225681e+10</td><td> 6.788681e+18</td><td>  40.811334</td><td>1.219475e+10</td></tr>\n",
              "\t<tr><td>besag-rw1      </td><td>2.608830e+80</td><td>5.428502e+157</td><td>1999.478837</td><td>2.440121e+79</td></tr>\n",
              "\t<tr><td>bym-rw1        </td><td>3.701127e+01</td><td> 1.092588e+00</td><td>   3.024869</td><td>1.078017e+01</td></tr>\n",
              "\t<tr><td>besagproper-rw2</td><td>3.701127e+01</td><td> 1.092588e+00</td><td>   3.024881</td><td>1.078018e+01</td></tr>\n",
              "\t<tr><td>besag-rw2      </td><td>3.701128e+01</td><td> 1.092589e+00</td><td>   3.024914</td><td>1.078018e+01</td></tr>\n",
              "\t<tr><td>bym-rw2        </td><td>3.701126e+01</td><td> 1.092588e+00</td><td>   3.024826</td><td>1.078017e+01</td></tr>\n",
              "</tbody>\n",
              "</table>\n"
            ]
          },
          "metadata": {
            "tags": []
          }
        }
      ]
    },
    {
      "cell_type": "markdown",
      "metadata": {
        "id": "OhN4mEKnKqcD"
      },
      "source": [
        "##7.Export models and metrics"
      ]
    },
    {
      "cell_type": "code",
      "metadata": {
        "id": "344kKyzPKqAS"
      },
      "source": [
        "saveRDS(model_types,'/content/resultados_distritos_inla.rds')\n",
        "saveRDS(model_metricas,'/content/metricas_distritos_inla.rds')"
      ],
      "execution_count": 12,
      "outputs": []
    }
  ]
}