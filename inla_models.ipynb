{
  "nbformat": 4,
  "nbformat_minor": 0,
  "metadata": {
    "colab": {
      "name": "R.ipynb",
      "provenance": [],
      "toc_visible": true,
      "include_colab_link": true
    },
    "kernelspec": {
      "name": "ir",
      "display_name": "R"
    }
  },
  "cells": [
    {
      "cell_type": "markdown",
      "metadata": {
        "id": "view-in-github",
        "colab_type": "text"
      },
      "source": [
        "<a href=\"https://colab.research.google.com/github/ambarja/INLA-MODELS/blob/main/inla_models.ipynb\" target=\"_parent\"><img src=\"https://colab.research.google.com/assets/colab-badge.svg\" alt=\"Open In Colab\"/></a>"
      ]
    },
    {
      "cell_type": "markdown",
      "metadata": {
        "id": "Fut9xFpju1d_"
      },
      "source": [
        "<img align=\"left\" style=\"padding-right:10px;\" src=\"https://avatars.githubusercontent.com/u/46831228?s=200&v=4\" width=10% ><img align=\"right\" style=\"padding-left:10px;\" src=\"https://colab.research.google.com/img/colab_favicon.ico\" width=10% >\n",
        "<p><b><h2 align =\"center\">Malaria Hydrobasins project</h2></b></p>\n",
        "<p>Este proyecto tiene como objetivo analizar de forma espacial y temporal las tasas de malaria en la región de Loreto a nivel distrital y microcuenas empleando modelos bayesianos como INLA. <img src = 'https://img.shields.io/github/license/Naereen/StrapDown.js.svg' href='https://github.com/Naereen/StrapDown.js/blob/master/LICENSE'> </p>\n"
      ]
    },
    {
      "cell_type": "code",
      "metadata": {
        "id": "IdxR6WIQY-TI",
        "cellView": "form"
      },
      "source": [
        "#@title **Install packages main. It takes aprox. 10 min**\n",
        "system('sudo add-apt-repository ppa:ubuntugis/ubuntugis-unstable')\n",
        "system('sudo apt-get update')\n",
        "system('sudo apt-get install libudunits2-dev libgdal-dev libgeos-dev libproj-dev')\n",
        "system('sudo apt-get install libprotobuf-dev protobuf-compiler libv8-dev libjq-dev')\n",
        "install.packages('tidyverse')\n",
        "install.packages(\"INLA\",repos=c(getOption(\"repos\"),INLA=\"https://inla.r-inla-download.org/R/testing\"), dep=TRUE)\n",
        "install.packages('spdep')\n",
        "install.packages('Metrics')\n",
        "install.packages('spatialreg')"
      ],
      "execution_count": null,
      "outputs": []
    },
    {
      "cell_type": "code",
      "metadata": {
        "id": "fOLim2ax4OU_",
        "cellView": "form"
      },
      "source": [
        "#@title **functions - inla_utils**\n",
        "inla_function <- function(data, eq) {\n",
        "  result <- inla(eq,\n",
        "    family = \"nbinomial\",\n",
        "    verbose = F,\n",
        "    data = data,\n",
        "    E = nrohab,\n",
        "    control.compute = list(dic = TRUE, waic = TRUE, cpo = TRUE),\n",
        "    control.predictor = list(compute = TRUE, link = 1)\n",
        "  )\n",
        "}\n",
        "\n",
        "\n",
        "metricas_error <- function(data, model){\n",
        "  data$pred <- model$summary.fitted.values$`0.5quant`\n",
        "  met_rmse <- rmse(actual = data$fal , predicted = data$pred)\n",
        "  met_rse  <- rse(actual = data$fal , predicted = data$pred)\n",
        "  met_msle <- msle(actual = data$fal , predicted = data$pred)\n",
        "  met_mae <- mae(actual = data$fal , predicted = data$pred)\n",
        "  met_waic <- model$waic[1]\n",
        "  met_dic <- model$dic[1]\n",
        "      \n",
        "  met_tabla <- tibble(rmse = met_rmse, rse = met_rse,\n",
        "                      msle = met_msle, mae = met_mae,\n",
        "                      waic = met_waic, dic = met_dic )\n",
        "  return(met_tabla)\n",
        "}\n"
      ],
      "execution_count": 11,
      "outputs": []
    },
    {
      "cell_type": "code",
      "metadata": {
        "id": "uKtyJPA2iDja"
      },
      "source": [
        "library(INLA)\n",
        "library(tidyverse)\n",
        "library(purrr)\n",
        "library(spdep)\n",
        "library(Metrics)"
      ],
      "execution_count": 12,
      "outputs": []
    },
    {
      "cell_type": "markdown",
      "metadata": {
        "id": "HomFmcecCegH"
      },
      "source": [
        "##1.Reading to dataset and spatial data"
      ]
    },
    {
      "cell_type": "code",
      "metadata": {
        "id": "DlRuACg5BxiM"
      },
      "source": [
        "spatial <- read_rds(\"/content/sp_district.rds\")\n",
        "dataset <- read_rds(\"/content/alldataset_district.rds\") %>% mutate(month = as.integer(month))"
      ],
      "execution_count": 13,
      "outputs": []
    },
    {
      "cell_type": "markdown",
      "metadata": {
        "id": "VFgDndH2B01X"
      },
      "source": [
        "##2.Calculate the neighborhood matrix"
      ]
    },
    {
      "cell_type": "code",
      "metadata": {
        "id": "XgG7y8NfByX5"
      },
      "source": [
        "nb <- poly2nb(spatial)\n",
        "g <- inla.read.graph(nb)"
      ],
      "execution_count": 14,
      "outputs": []
    },
    {
      "cell_type": "markdown",
      "metadata": {
        "id": "MjGaFFzmDfwP"
      },
      "source": [
        "##3.Models spatial, temporal and spatial-*temporal*"
      ]
    },
    {
      "cell_type": "code",
      "metadata": {
        "id": "TtML9qvJDPqw"
      },
      "source": [
        "types <- c(\n",
        "  # esco\n",
        "  formula = fal ~ esco + f(new_id, model = \"bym\", graph = g) + f(year, model = \"iid\") + f(month, model = \"rw2\"),\n",
        "  # etp\n",
        "  formula = fal ~ etp + f(new_id, model = \"bym\", graph = g) + f(year, model = \"iid\") + f(month, model = \"rw2\"),\n",
        "  # evi\n",
        "  formula = fal ~ evi + f(new_id, model = \"bym\", graph = g) + f(year, model = \"iid\") + f(month, model = \"rw2\"),\n",
        "  # hsoil\n",
        "  formula = fal ~ hsoil + f(new_id, model = \"bym\", graph = g) + f(year, model = \"iid\") + f(month, model = \"rw2\"),\n",
        "  # ndvi\n",
        "  formula = fal ~ ndvi + f(new_id, model = \"bym\", graph = g) + f(year, model = \"iid\") + f(month, model = \"rw2\"),\n",
        "  # pp\n",
        "  formula = fal ~ pp + f(new_id, model = \"bym\", graph = g) + f(year, model = \"iid\") + f(month, model = \"rw2\"),\n",
        "  # savi\n",
        "  formula = fal ~ savi + f(new_id, model = \"bym\", graph = g) + f(year, model = \"iid\") + f(month, model = \"rw2\"),\n",
        "  # temp\n",
        "  formula = fal ~ temp + f(new_id, model = \"bym\", graph = g) + f(year, model = \"iid\") + f(month, model = \"rw2\"),\n",
        "  # esco-etp\n",
        "  formula = fal ~ esco + etp + f(new_id, model = \"bym\", graph = g) + f(year, model = \"iid\") + f(month, model = \"rw2\"),\n",
        "  # esco-evi\n",
        "  formula = fal ~ esco + evi + f(new_id, model = \"bym\", graph = g) + f(year, model = \"iid\") + f(month, model = \"rw2\"),\n",
        "  # esco-hsoil\n",
        "  formula = fal ~ esco + hsoil + f(new_id, model = \"bym\", graph = g) + f(year, model = \"iid\") + f(month, model = \"rw2\"),\n",
        "  # esco-ndvi\n",
        "  formula = fal ~ esco + ndvi + f(new_id, model = \"bym\", graph = g) + f(year, model = \"iid\") + f(month, model = \"rw2\"),  \n",
        "  # esco-pp\n",
        "  formula = fal ~ esco + pp + f(new_id, model = \"bym\", graph = g) + f(year, model = \"iid\") + f(month, model = \"rw2\"), \n",
        "  # esco-savi\n",
        "  formula = fal ~ esco + savi + f(new_id, model = \"bym\", graph = g) + f(year, model = \"iid\") + f(month, model = \"rw2\"), \n",
        "  # esco-temp\n",
        "  formula = fal ~ esco + temp + f(new_id, model = \"bym\", graph = g) + f(year, model = \"iid\") + f(month, model = \"rw2\"), \n",
        "  # etp-evi\n",
        "  formula = fal ~ etp + evi + f(new_id, model = \"bym\", graph = g) + f(year, model = \"iid\") + f(month, model = \"rw2\"), \n",
        "  # etp-hsoil\n",
        "  formula = fal ~ etp + hsoil + f(new_id, model = \"bym\", graph = g) + f(year, model = \"iid\") + f(month, model = \"rw2\"), \n",
        "  # etp-ndvi\n",
        "  formula = fal ~ etp + ndvi + f(new_id, model = \"bym\", graph = g) + f(year, model = \"iid\") + f(month, model = \"rw2\"), \n",
        "  # etp-pp\n",
        "  formula = fal ~ etp + pp + f(new_id, model = \"bym\", graph = g) + f(year, model = \"iid\") + f(month, model = \"rw2\"), \n",
        "  # etp-savi\n",
        "  formula = fal ~ etp + savi + f(new_id, model = \"bym\", graph = g) + f(year, model = \"iid\") + f(month, model = \"rw2\"), \n",
        "  # etp-temp\n",
        "  formula = fal ~ etp + temp + f(new_id, model = \"bym\", graph = g) + f(year, model = \"iid\") + f(month, model = \"rw2\"),\n",
        "  # evi-hsoil\n",
        "  formula = fal ~ evi + hsoil + f(new_id, model = \"bym\", graph = g) + f(year, model = \"iid\") + f(month, model = \"rw2\"),\n",
        "  # evi-ndvi\n",
        "  formula = fal ~ evi + ndvi + f(new_id, model = \"bym\", graph = g) + f(year, model = \"iid\") + f(month, model = \"rw2\"),\n",
        "  # evi-pp\n",
        "  formula = fal ~ evi + pp + f(new_id, model = \"bym\", graph = g) + f(year, model = \"iid\") + f(month, model = \"rw2\"),\n",
        "  # evi-savi\n",
        "  formula = fal ~ evi + savi + f(new_id, model = \"bym\", graph = g) + f(year, model = \"iid\") + f(month, model = \"rw2\"),\n",
        "  # evi-temp\n",
        "  formula = fal ~ evi + temp + f(new_id, model = \"bym\", graph = g) + f(year, model = \"iid\") + f(month, model = \"rw2\"),\n",
        "  # hsoil-ndvi\n",
        "  formula = fal ~ hsoil + ndvi + f(new_id, model = \"bym\", graph = g) + f(year, model = \"iid\") + f(month, model = \"rw2\"),\n",
        "  # hsoil-pp\n",
        "  formula = fal ~ hsoil + pp + f(new_id, model = \"bym\", graph = g) + f(year, model = \"iid\") + f(month, model = \"rw2\"),\n",
        "  # hsoil-savi\n",
        "  formula = fal ~ hsoil + savi + f(new_id, model = \"bym\", graph = g) + f(year, model = \"iid\") + f(month, model = \"rw2\"),\n",
        "  # hsoil-temp\n",
        "  formula = fal ~ hsoil + temp + f(new_id, model = \"bym\", graph = g) + f(year, model = \"iid\") + f(month, model = \"rw2\"),\n",
        "  # ndvi-pp\n",
        "  formula = fal ~ ndvi + pp + f(new_id, model = \"bym\", graph = g) + f(year, model = \"iid\") + f(month, model = \"rw2\"),\n",
        "  # ndvi-savi\n",
        "  formula = fal ~ ndvi + savi + f(new_id, model = \"bym\", graph = g) + f(year, model = \"iid\") + f(month, model = \"rw2\"),\n",
        "  # ndvi-temp\n",
        "  formula = fal ~ ndvi + temp + f(new_id, model = \"bym\", graph = g) + f(year, model = \"iid\") + f(month, model = \"rw2\"),\n",
        "  # pp-savi\n",
        "  formula = fal ~ pp + savi + f(new_id, model = \"bym\", graph = g) + f(year, model = \"iid\") + f(month, model = \"rw2\"),\n",
        "  # pp-temp\n",
        "  formula = fal ~ pp + temp + f(new_id, model = \"bym\", graph = g) + f(year, model = \"iid\") + f(month, model = \"rw2\"),\n",
        "  # savi-temp\n",
        "  formula = fal ~ savi + temp + f(new_id, model = \"bym\", graph = g) + f(year, model = \"iid\") + f(month, model = \"rw2\"),\n",
        "  # esco-etp-evi\n",
        "  formula = fal ~ esco + etp + evi + f(new_id, model = \"bym\", graph = g) + f(year, model = \"iid\") + f(month, model = \"rw2\"),\n",
        "  # esco-etp-hsoil\n",
        "  formula = fal ~ esco + etp + hsoil + f(new_id, model = \"bym\", graph = g) + f(year, model = \"iid\") + f(month, model = \"rw2\"),\n",
        "  # esco-etp-ndvi\n",
        "  formula = fal ~ esco + etp + ndvi + f(new_id, model = \"bym\", graph = g) + f(year, model = \"iid\") + f(month, model = \"rw2\"),\n",
        "  # esco-etp-pp\n",
        "  formula = fal ~ esco + etp + pp + f(new_id, model = \"bym\", graph = g) + f(year, model = \"iid\") + f(month, model = \"rw2\"),\n",
        "  # esco-etp-savi\n",
        "  formula = fal ~ esco + etp + savi + f(new_id, model = \"bym\", graph = g) + f(year, model = \"iid\") + f(month, model = \"rw2\"),\n",
        "  # esco-etp-temp\n",
        "  formula = fal ~ esco + etp + temp + f(new_id, model = \"bym\", graph = g) + f(year, model = \"iid\") + f(month, model = \"rw2\"),\n",
        "  # esco-etp-evi-hsoil\n",
        "  formula = fal ~ esco + etp + evi + hsoil + f(new_id, model = \"bym\", graph = g) + f(year, model = \"iid\") + f(month, model = \"rw2\"),\n",
        "  # esco-etp-evi-ndvi\n",
        "  formula = fal ~ esco + etp + evi + savi + f(new_id, model = \"bym\", graph = g) + f(year, model = \"iid\") + f(month, model = \"rw2\"),\n",
        "  # esco-etp-evi-pp\n",
        "  formula = fal ~ esco + etp + evi + pp + f(new_id, model = \"bym\", graph = g) + f(year, model = \"iid\") + f(month, model = \"rw2\"),\n",
        "  # esco-etp-evi-savi\n",
        "  formula = fal ~ esco + etp + evi + savi + f(new_id, model = \"bym\", graph = g) + f(year, model = \"iid\") + f(month, model = \"rw2\"),\n",
        "  # esco-etp-evi-temp\n",
        "  formula = fal ~ esco + etp + evi + temp + f(new_id, model = \"bym\", graph = g) + f(year, model = \"iid\") + f(month, model = \"rw2\"),\n",
        "  # esco-etp-evi-hsoil-ndvi\n",
        "  formula = fal ~ esco + etp + evi + hsoil + ndvi + f(new_id, model = \"bym\", graph = g) + f(year, model = \"iid\") + f(month, model = \"rw2\"),\n",
        "  # esco-etp-evi-hsoil-pp\n",
        "  formula = fal ~ esco + etp + evi + hsoil + pp + f(new_id, model = \"bym\", graph = g) + f(year, model = \"iid\") + f(month, model = \"rw2\"),\n",
        "  # esco-etp-evi-hsoil-savi\n",
        "  formula = fal ~ esco + etp + evi + hsoil + savi + f(new_id, model = \"bym\", graph = g) + f(year, model = \"iid\") + f(month, model = \"rw2\"),\n",
        "  # esco-etp-evi-hsoil-temp\n",
        "  formula = fal ~ esco + etp + evi + hsoil + temp + f(new_id, model = \"bym\", graph = g) + f(year, model = \"iid\") + f(month, model = \"rw2\"),\n",
        "  # esco-etp-evi-hsoil-ndvi-pp\n",
        "  formula = fal ~ esco + etp + evi + hsoil + ndvi + pp + f(new_id, model = \"bym\", graph = g) + f(year, model = \"iid\") + f(month, model = \"rw2\"),\n",
        "  # esco-etp-evi-hsoil-ndvi-savi\n",
        "  formula = fal ~ esco + etp + evi + hsoil + ndvi + savi + f(new_id, model = \"bym\", graph = g) + f(year, model = \"iid\") + f(month, model = \"rw2\"),\n",
        "  # esco-etp-evi-hsoil-ndvi-temp\n",
        "  formula = fal ~ esco + etp + evi + hsoil + ndvi + temp + f(new_id, model = \"bym\", graph = g) + f(year, model = \"iid\") + f(month, model = \"rw2\"),\n",
        "  # esco-etp-evi-hsoil-ndvi-pp-savi\n",
        "  formula = fal ~ esco + etp + evi + hsoil + ndvi + pp + savi +f(new_id, model = \"bym\", graph = g) + f(year, model = \"iid\") + f(month, model = \"rw2\"),\n",
        "  # esco-etp-evi-hsoil-ndvi-pp-temp\n",
        "  formula = fal ~ esco + etp + evi + hsoil + ndvi + pp + temp + f(new_id, model = \"bym\", graph = g) + f(year, model = \"iid\") + f(month, model = \"rw2\"),\n",
        "  # esco-etp-evi-hsoil-ndvi-pp-savi-temp\n",
        "  formula = fal ~ esco + etp + evi + hsoil + ndvi + pp + savi + temp + f(new_id, model = \"bym\", graph = g) + f(year, model = \"iid\") + f(month, model = \"rw2\")\n",
        ")\n",
        " "
      ],
      "execution_count": 22,
      "outputs": []
    },
    {
      "cell_type": "markdown",
      "metadata": {
        "id": "W9mmLGa8D3OE"
      },
      "source": [
        "##4.Names of models"
      ]
    },
    {
      "cell_type": "code",
      "metadata": {
        "id": "m5lSNjj-zixH"
      },
      "source": [
        "model_name <- c(\"esco\",\"etp\",\"evi\",\"hsoil\",\"ndvi\",\"pp\",\"savi\",\"temp\",\n",
        "                \"esco-etp\",\"esco-evi\",\"esco-hsoil\",\"esco-ndvi\",\"esco-pp\",\"esco-savi\",\"esco-temp\",\"etp-evi\",\n",
        "                \"etp-hsoil\",\"etp-ndvi\",\"etp-pp\",\"etp-savi\",\"etp-temp\",\"evi-hsoil\",\"evi-ndvi\",\"evi-pp\",\"evi-savi\",\n",
        "                \"evi-temp\",\"hsoil-ndvi\",\"hsoil-pp\",\"hsoil-savi\",\"hsoil-temp\",\n",
        "                \"ndvi-pp\",\"ndvi-savi\",\"ndvi-temp\",\"pp-savi\",\"pp-temp\",\"savi-temp\",\n",
        "                \"esco-etp-evi\",\"esco-etp-hsoil\",\"esco-etp-ndvi\",\"esco-etp-pp\",\"esco-etp-savi\",\"esco-etp-temp\",\n",
        "                \"esco-etp-evi-hsoil\",\"esco-etp-evi-ndvi\",\"esco-etp-evi-pp\",\"esco-etp-evi-savi\",\"esco-etp-evi-temp\",\n",
        "                \"esco-etp-evi-hsoil-ndvi\",\"esco-etp-evi-hsoil-pp\",\"esco-etp-evi-hsoil-savi\",\"esco-etp-evi-hsoil-temp\",\n",
        "                \"esco-etp-evi-hsoil-ndvi-pp\",\"esco-etp-evi-hsoil-ndvi-savi\",\"esco-etp-evi-hsoil-ndvi-temp\",\n",
        "                \"esco-etp-evi-hsoil-ndvi-pp-savi\",\"esco-etp-evi-hsoil-ndvi-pp-temp\",\"full\")\n",
        " \n",
        "names(types) <- model_name"
      ],
      "execution_count": null,
      "outputs": []
    },
    {
      "cell_type": "markdown",
      "metadata": {
        "id": "QD7e8rk4EBbc"
      },
      "source": [
        "##5.Run models"
      ]
    },
    {
      "cell_type": "code",
      "metadata": {
        "id": "Ph-NlAdID2FN"
      },
      "source": [
        "model_types <- types %>% purrr::map(~ inla_function(data = dataset, eq = .))"
      ],
      "execution_count": null,
      "outputs": []
    },
    {
      "cell_type": "markdown",
      "metadata": {
        "id": "jlBGCGp5KbMG"
      },
      "source": [
        "##6.Metrics"
      ]
    },
    {
      "cell_type": "code",
      "metadata": {
        "id": "4Dcf4-qHKaNX"
      },
      "source": [
        "model_metricas <- model_types %>% \n",
        "  purrr::map(~ metricas_error(data = dataset,model = .)) %>%\n",
        "  map_df(.f = data.frame,.id = 'names')"
      ],
      "execution_count": null,
      "outputs": []
    },
    {
      "cell_type": "markdown",
      "metadata": {
        "id": "kbBtTf7Evs3x"
      },
      "source": [
        ""
      ]
    },
    {
      "cell_type": "code",
      "metadata": {
        "id": "FlZreVizKkkK"
      },
      "source": [
        "model_metricas"
      ],
      "execution_count": null,
      "outputs": []
    },
    {
      "cell_type": "markdown",
      "metadata": {
        "id": "OhN4mEKnKqcD"
      },
      "source": [
        "##7.Export models and metrics"
      ]
    },
    {
      "cell_type": "code",
      "metadata": {
        "id": "344kKyzPKqAS"
      },
      "source": [
        "#saveRDS(model_types,'/content/resultados_distritos_inla.rds')\n",
        "#saveRDS(model_metricas,'/content/metricas_distritos_inla.rds')"
      ],
      "execution_count": null,
      "outputs": []
    }
  ]
}