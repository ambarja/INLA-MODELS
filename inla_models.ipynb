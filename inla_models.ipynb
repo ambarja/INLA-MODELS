{
  "nbformat": 4,
  "nbformat_minor": 0,
  "metadata": {
    "colab": {
      "name": "R.ipynb",
      "provenance": [],
      "toc_visible": true,
      "include_colab_link": true
    },
    "kernelspec": {
      "name": "ir",
      "display_name": "R"
    }
  },
  "cells": [
    {
      "cell_type": "markdown",
      "metadata": {
        "id": "view-in-github",
        "colab_type": "text"
      },
      "source": [
        "<a href=\"https://colab.research.google.com/github/ambarja/INLA-MODELS/blob/main/inla_models.ipynb\" target=\"_parent\"><img src=\"https://colab.research.google.com/assets/colab-badge.svg\" alt=\"Open In Colab\"/></a>"
      ]
    },
    {
      "cell_type": "markdown",
      "metadata": {
        "id": "Fut9xFpju1d_"
      },
      "source": [
        "<img align=\"left\" style=\"padding-right:10px;\" src=\"https://avatars.githubusercontent.com/u/46831228?s=200&v=4\" width=10% ><img align=\"right\" style=\"padding-left:10px;\" src=\"https://colab.research.google.com/img/colab_favicon.ico\" width=10% >\n",
        "<p><b><h2 align =\"center\">Malaria Hydrobasins project</h2></b></p>\n",
        "<p>Este proyecto tiene como objetivo analizar de forma espacial y temporal las tasas de malaria en la región de Loreto a nivel distrital y microcuenas empleando modelos bayesianos como INLA. <img src = 'https://img.shields.io/github/license/Naereen/StrapDown.js.svg' href='https://github.com/Naereen/StrapDown.js/blob/master/LICENSE'> </p>\n"
      ]
    },
    {
      "cell_type": "code",
      "metadata": {
        "id": "IdxR6WIQY-TI",
        "cellView": "form"
      },
      "source": [
        "#@title **Install packages main. It takes aprox. 10 min**\n",
        "system('sudo add-apt-repository ppa:ubuntugis/ubuntugis-unstable')\n",
        "system('sudo apt-get update')\n",
        "system('sudo apt-get install libudunits2-dev libgdal-dev libgeos-dev libproj-dev')\n",
        "system('sudo apt-get install libprotobuf-dev protobuf-compiler libv8-dev libjq-dev')\n",
        "install.packages('sf')\n",
        "install.packages('tidyverse')\n",
        "install.packages(\"INLA\",repos=c(getOption(\"repos\"),INLA=\"https://inla.r-inla-download.org/R/testing\"), dep=TRUE)\n",
        "install.packages('spdep')\n",
        "install.packages('Metrics')\n",
        "install.packages('spatialreg')"
      ],
      "execution_count": null,
      "outputs": []
    },
    {
      "cell_type": "code",
      "metadata": {
        "cellView": "form",
        "id": "fOLim2ax4OU_"
      },
      "source": [
        "#@title **functions - inla_utils**\n",
        "inla_function <- function(data, eq) {\n",
        "  result <- inla(eq,\n",
        "    family = \"nbinomial\",\n",
        "    verbose = F,\n",
        "    data = data,\n",
        "    E = nrohab,\n",
        "    control.compute = list(dic = TRUE, waic = TRUE, cpo = TRUE),\n",
        "    control.predictor = list(compute = TRUE, link = 1)\n",
        "  )\n",
        "}\n",
        "\n",
        "\n",
        "metricas_error <- function(data, model){\n",
        "  data$pred <- model$summary.fitted.values$`0.5quant`\n",
        "  met_rmse <- rmse(actual = data$fal , predicted = data$pred)\n",
        "  met_rse  <- rse(actual = data$fal , predicted = data$pred)\n",
        "  met_msle <- msle(actual = data$fal , predicted = data$pred)\n",
        "  met_tabla <- tibble(rmse = met_rmse, rse = met_rse, msle = met_msle)\n",
        "  return(met_tabla)\n",
        "}\n"
      ],
      "execution_count": 7,
      "outputs": []
    },
    {
      "cell_type": "code",
      "metadata": {
        "id": "uKtyJPA2iDja"
      },
      "source": [
        "library(sf)\n",
        "library(INLA)\n",
        "library(tidyverse)\n",
        "library(purrr)\n",
        "library(spdep)\n",
        "library(Metrics)"
      ],
      "execution_count": null,
      "outputs": []
    },
    {
      "cell_type": "markdown",
      "metadata": {
        "id": "HomFmcecCegH"
      },
      "source": [
        "##1.Reading to dataset and spatial data"
      ]
    },
    {
      "cell_type": "code",
      "metadata": {
        "id": "DlRuACg5BxiM"
      },
      "source": [
        "spatial <- read_rds(\"/content/sp_district.rds\")\n",
        "dataset <- read_rds(\"/content/alldataset_district.rds\") %>% mutate(month = as.integer(month))"
      ],
      "execution_count": 8,
      "outputs": []
    },
    {
      "cell_type": "markdown",
      "metadata": {
        "id": "VFgDndH2B01X"
      },
      "source": [
        "##2.Calculate the neighborhood matrix"
      ]
    },
    {
      "cell_type": "code",
      "metadata": {
        "id": "XgG7y8NfByX5"
      },
      "source": [
        "nb <- poly2nb(spatial)\n",
        "g <- inla.read.graph(nb)"
      ],
      "execution_count": 12,
      "outputs": []
    },
    {
      "cell_type": "markdown",
      "metadata": {
        "id": "MjGaFFzmDfwP"
      },
      "source": [
        "##3.Models spatial, temporal and spatial-*temporal*"
      ]
    },
    {
      "cell_type": "code",
      "metadata": {
        "id": "TtML9qvJDPqw"
      },
      "source": [
        "types <- c(\n",
        "  # model random iid\n",
        "  formula = fal ~ esco + etp + evi + hsoil + ndvi + pp + savi + temp +\n",
        "    f(new_id, model = \"iid\", graph = g),\n",
        "\n",
        "  # model spatial type besagproper\n",
        "  formula = fal ~ esco + etp + evi  + hsoil + ndvi + pp + savi + temp +\n",
        "    f(new_id, model = \"besagproper\", graph = g),\n",
        "\n",
        "  # model spatial type besag\n",
        "  formula = fal ~ esco + etp + evi + hsoil + ndvi + pp + savi + temp +\n",
        "    f(new_id, model = \"besag\", graph = g),\n",
        "\n",
        "  # model spatial type bym\n",
        "  formula = fal ~ esco + etp + evi + hsoil + ndvi + pp + savi + temp +\n",
        "    f(new_id, model = \"bym\", graph = g),\n",
        "\n",
        "  # model temporal ar1\n",
        "  formula = fal ~ esco + etp + evi  + hsoil + ndvi + pp + savi + temp +\n",
        "    f(new_id, model = \"ar1\", graph = g),\n",
        "\n",
        "  # model temporal rw1\n",
        "  formula = fal ~ esco + etp + evi  + hsoil + ndvi + pp + savi + temp +\n",
        "    f(new_id, model = \"rw1\", graph = g),\n",
        "\n",
        "  # model temporal rw2\n",
        "  formula = fal ~ esco + etp + evi  + hsoil + ndvi + pp + savi + temp +\n",
        "    f(new_id, model = \"rw2\", graph = g),\n",
        "\n",
        "  # model spatial-temporal (besagproper-rw1)\n",
        "  formula = fal ~ esco + etp + evi  + hsoil + ndvi + pp + savi + temp +\n",
        "    f(new_id, model = \"besagproper\", graph = g) + f(year, model = \"rw1\") + f(month, model = \"iid\"),\n",
        "\n",
        "  # model spatial-temporal (besag - rw1)\n",
        "  formula = fal ~ esco + etp + evi  + hsoil + ndvi + pp + savi + temp +\n",
        "    f(new_id, model = \"besag\", graph = g) + f(year, model = \"rw1\") + f(month, model = \"iid\"),\n",
        "\n",
        "  # model spatial-temporal (bym - rw1)\n",
        "  formula = fal ~ esco + etp + evi + hsoil + ndvi + pp + savi + temp +\n",
        "    f(new_id, model = \"bym\", graph = g) + f(year, model = \"rw1\") + f(month, model = \"iid\"),\n",
        "\n",
        "  # model spatial-temporal (besagproper-rw2)\n",
        "  formula = fal ~ esco + etp + evi + hsoil + ndvi + pp + savi + temp +\n",
        "    f(new_id, model = \"besagproper\", graph = g) + f(year, model = \"rw2\") + f(month, model = \"iid\"),\n",
        "\n",
        "  # model spatial-temporal (besag - rw2)\n",
        "  formula = fal ~ esco + etp + evi + hsoil + ndvi + pp + savi + temp +\n",
        "    f(new_id, model = \"besag\", graph = g) + f(year, model = \"rw2\") + f(month, model = \"iid\"),\n",
        "\n",
        "  # model spatial-temporal (bym - rw2)\n",
        "  formula = fal ~ esco + etp + evi  + hsoil + ndvi + pp + savi + temp +\n",
        "    f(new_id, model = \"bym\", graph = g) + f(year, model = \"rw2\") + f(month, model = \"iid\")\n",
        ")"
      ],
      "execution_count": 13,
      "outputs": []
    },
    {
      "cell_type": "markdown",
      "metadata": {
        "id": "W9mmLGa8D3OE"
      },
      "source": [
        "##4.Names of models"
      ]
    },
    {
      "cell_type": "code",
      "metadata": {
        "id": "NCVbkYbpDsy-"
      },
      "source": [
        "model_name <- c(\"iid\", \"besagproper\", \"besag\", \"bym\", \"ar1\", \"rw1\", \"rw2\",\n",
        "  \"besagproper-rw1\", \"besag-rw1\", \"bym-rw1\", \"besagproper-rw2\",\n",
        "  \"besag-rw2\", \"bym-rw2\")\n",
        "names(types) <- model_name"
      ],
      "execution_count": 15,
      "outputs": []
    },
    {
      "cell_type": "markdown",
      "metadata": {
        "id": "QD7e8rk4EBbc"
      },
      "source": [
        "##5.Run models"
      ]
    },
    {
      "cell_type": "code",
      "metadata": {
        "colab": {
          "base_uri": "https://localhost:8080/"
        },
        "id": "Ph-NlAdID2FN",
        "outputId": "706b3e16-54e1-4360-91d5-ee5cf522b810"
      },
      "source": [
        "model_types <- types %>% purrr::map(~ inla_function(data = dataset, eq = .))"
      ],
      "execution_count": 16,
      "outputs": [
        {
          "output_type": "stream",
          "text": [
            "Warning message in inla.model.properties.generic(inla.trim.family(model), mm[names(mm) == :\n",
            "“Model 'besagproper' in section 'latent' is marked as 'experimental'; changes may appear at any time.\n",
            "  Use this model with extra care!!! Further warnings are disabled.”\n"
          ],
          "name": "stderr"
        }
      ]
    },
    {
      "cell_type": "code",
      "metadata": {
        "colab": {
          "base_uri": "https://localhost:8080/",
          "height": 34
        },
        "id": "4xqEAXizKURp",
        "outputId": "057b45b4-335d-441a-b6fc-76b73481b2cf"
      },
      "source": [
        "class(model_types)"
      ],
      "execution_count": 17,
      "outputs": [
        {
          "output_type": "display_data",
          "data": {
            "text/plain": [
              "[1] \"list\""
            ],
            "text/latex": "'list'",
            "text/markdown": "'list'",
            "text/html": [
              "'list'"
            ]
          },
          "metadata": {
            "tags": []
          }
        }
      ]
    },
    {
      "cell_type": "markdown",
      "metadata": {
        "id": "jlBGCGp5KbMG"
      },
      "source": [
        "##6.Metrics"
      ]
    },
    {
      "cell_type": "code",
      "metadata": {
        "id": "4Dcf4-qHKaNX"
      },
      "source": [
        "model_metricas <- model_types %>% \n",
        "  purrr::map(~ metricas_error(data = dataset,model = .))"
      ],
      "execution_count": 18,
      "outputs": []
    },
    {
      "cell_type": "code",
      "metadata": {
        "colab": {
          "base_uri": "https://localhost:8080/",
          "height": 1000
        },
        "id": "FlZreVizKkkK",
        "outputId": "4746acea-f369-48b7-a936-0df536c19069"
      },
      "source": [
        "model_metricas"
      ],
      "execution_count": 19,
      "outputs": [
        {
          "output_type": "display_data",
          "data": {
            "text/plain": [
              "$iid\n",
              "\u001b[90m# A tibble: 1 x 3\u001b[39m\n",
              "   rmse   rse  msle\n",
              "  \u001b[3m\u001b[90m<dbl>\u001b[39m\u001b[23m \u001b[3m\u001b[90m<dbl>\u001b[39m\u001b[23m \u001b[3m\u001b[90m<dbl>\u001b[39m\u001b[23m\n",
              "\u001b[90m1\u001b[39m  37.0  1.09  3.03\n",
              "\n",
              "$besagproper\n",
              "\u001b[90m# A tibble: 1 x 3\u001b[39m\n",
              "   rmse   rse  msle\n",
              "  \u001b[3m\u001b[90m<dbl>\u001b[39m\u001b[23m \u001b[3m\u001b[90m<dbl>\u001b[39m\u001b[23m \u001b[3m\u001b[90m<dbl>\u001b[39m\u001b[23m\n",
              "\u001b[90m1\u001b[39m  37.0  1.09  3.03\n",
              "\n",
              "$besag\n",
              "\u001b[90m# A tibble: 1 x 3\u001b[39m\n",
              "   rmse   rse  msle\n",
              "  \u001b[3m\u001b[90m<dbl>\u001b[39m\u001b[23m \u001b[3m\u001b[90m<dbl>\u001b[39m\u001b[23m \u001b[3m\u001b[90m<dbl>\u001b[39m\u001b[23m\n",
              "\u001b[90m1\u001b[39m  37.0  1.09  3.03\n",
              "\n",
              "$bym\n",
              "\u001b[90m# A tibble: 1 x 3\u001b[39m\n",
              "   rmse   rse  msle\n",
              "  \u001b[3m\u001b[90m<dbl>\u001b[39m\u001b[23m \u001b[3m\u001b[90m<dbl>\u001b[39m\u001b[23m \u001b[3m\u001b[90m<dbl>\u001b[39m\u001b[23m\n",
              "\u001b[90m1\u001b[39m  37.0  1.09  3.03\n",
              "\n",
              "$ar1\n",
              "\u001b[90m# A tibble: 1 x 3\u001b[39m\n",
              "   rmse   rse  msle\n",
              "  \u001b[3m\u001b[90m<dbl>\u001b[39m\u001b[23m \u001b[3m\u001b[90m<dbl>\u001b[39m\u001b[23m \u001b[3m\u001b[90m<dbl>\u001b[39m\u001b[23m\n",
              "\u001b[90m1\u001b[39m  37.0  1.09  3.03\n",
              "\n",
              "$rw1\n",
              "\u001b[90m# A tibble: 1 x 3\u001b[39m\n",
              "   rmse   rse  msle\n",
              "  \u001b[3m\u001b[90m<dbl>\u001b[39m\u001b[23m \u001b[3m\u001b[90m<dbl>\u001b[39m\u001b[23m \u001b[3m\u001b[90m<dbl>\u001b[39m\u001b[23m\n",
              "\u001b[90m1\u001b[39m  37.0  1.09  3.03\n",
              "\n",
              "$rw2\n",
              "\u001b[90m# A tibble: 1 x 3\u001b[39m\n",
              "     rmse      rse  msle\n",
              "    \u001b[3m\u001b[90m<dbl>\u001b[39m\u001b[23m    \u001b[3m\u001b[90m<dbl>\u001b[39m\u001b[23m \u001b[3m\u001b[90m<dbl>\u001b[39m\u001b[23m\n",
              "\u001b[90m1\u001b[39m 9.69\u001b[90me\u001b[39m71 7.49\u001b[90me\u001b[39m140 \u001b[4m1\u001b[24m339.\n",
              "\n",
              "$`besagproper-rw1`\n",
              "\u001b[90m# A tibble: 1 x 3\u001b[39m\n",
              "   rmse   rse  msle\n",
              "  \u001b[3m\u001b[90m<dbl>\u001b[39m\u001b[23m \u001b[3m\u001b[90m<dbl>\u001b[39m\u001b[23m \u001b[3m\u001b[90m<dbl>\u001b[39m\u001b[23m\n",
              "\u001b[90m1\u001b[39m  37.0  1.09  3.02\n",
              "\n",
              "$`besag-rw1`\n",
              "\u001b[90m# A tibble: 1 x 3\u001b[39m\n",
              "   rmse   rse  msle\n",
              "  \u001b[3m\u001b[90m<dbl>\u001b[39m\u001b[23m \u001b[3m\u001b[90m<dbl>\u001b[39m\u001b[23m \u001b[3m\u001b[90m<dbl>\u001b[39m\u001b[23m\n",
              "\u001b[90m1\u001b[39m  37.0  1.09  3.02\n",
              "\n",
              "$`bym-rw1`\n",
              "\u001b[90m# A tibble: 1 x 3\u001b[39m\n",
              "   rmse   rse  msle\n",
              "  \u001b[3m\u001b[90m<dbl>\u001b[39m\u001b[23m \u001b[3m\u001b[90m<dbl>\u001b[39m\u001b[23m \u001b[3m\u001b[90m<dbl>\u001b[39m\u001b[23m\n",
              "\u001b[90m1\u001b[39m  37.0  1.09  3.02\n",
              "\n",
              "$`besagproper-rw2`\n",
              "\u001b[90m# A tibble: 1 x 3\u001b[39m\n",
              "   rmse   rse  msle\n",
              "  \u001b[3m\u001b[90m<dbl>\u001b[39m\u001b[23m \u001b[3m\u001b[90m<dbl>\u001b[39m\u001b[23m \u001b[3m\u001b[90m<dbl>\u001b[39m\u001b[23m\n",
              "\u001b[90m1\u001b[39m  37.0  1.09  3.02\n",
              "\n",
              "$`besag-rw2`\n",
              "\u001b[90m# A tibble: 1 x 3\u001b[39m\n",
              "   rmse   rse  msle\n",
              "  \u001b[3m\u001b[90m<dbl>\u001b[39m\u001b[23m \u001b[3m\u001b[90m<dbl>\u001b[39m\u001b[23m \u001b[3m\u001b[90m<dbl>\u001b[39m\u001b[23m\n",
              "\u001b[90m1\u001b[39m  37.0  1.09  3.02\n",
              "\n",
              "$`bym-rw2`\n",
              "\u001b[90m# A tibble: 1 x 3\u001b[39m\n",
              "   rmse   rse  msle\n",
              "  \u001b[3m\u001b[90m<dbl>\u001b[39m\u001b[23m \u001b[3m\u001b[90m<dbl>\u001b[39m\u001b[23m \u001b[3m\u001b[90m<dbl>\u001b[39m\u001b[23m\n",
              "\u001b[90m1\u001b[39m  37.0  1.09  3.02\n"
            ],
            "text/latex": "\\begin{description}\n\\item[\\$iid] A tibble: 1 × 3\n\\begin{tabular}{lll}\n rmse & rse & msle\\\\\n <dbl> & <dbl> & <dbl>\\\\\n\\hline\n\t 37.01142 & 1.092597 & 3.025404\\\\\n\\end{tabular}\n\n\\item[\\$besagproper] A tibble: 1 × 3\n\\begin{tabular}{lll}\n rmse & rse & msle\\\\\n <dbl> & <dbl> & <dbl>\\\\\n\\hline\n\t 37.01142 & 1.092597 & 3.025421\\\\\n\\end{tabular}\n\n\\item[\\$besag] A tibble: 1 × 3\n\\begin{tabular}{lll}\n rmse & rse & msle\\\\\n <dbl> & <dbl> & <dbl>\\\\\n\\hline\n\t 37.01142 & 1.092597 & 3.025419\\\\\n\\end{tabular}\n\n\\item[\\$bym] A tibble: 1 × 3\n\\begin{tabular}{lll}\n rmse & rse & msle\\\\\n <dbl> & <dbl> & <dbl>\\\\\n\\hline\n\t 37.01142 & 1.092597 & 3.025406\\\\\n\\end{tabular}\n\n\\item[\\$ar1] A tibble: 1 × 3\n\\begin{tabular}{lll}\n rmse & rse & msle\\\\\n <dbl> & <dbl> & <dbl>\\\\\n\\hline\n\t 37.01141 & 1.092597 & 3.025405\\\\\n\\end{tabular}\n\n\\item[\\$rw1] A tibble: 1 × 3\n\\begin{tabular}{lll}\n rmse & rse & msle\\\\\n <dbl> & <dbl> & <dbl>\\\\\n\\hline\n\t 37.0114 & 1.092596 & 3.025391\\\\\n\\end{tabular}\n\n\\item[\\$rw2] A tibble: 1 × 3\n\\begin{tabular}{lll}\n rmse & rse & msle\\\\\n <dbl> & <dbl> & <dbl>\\\\\n\\hline\n\t 9.692715e+71 & 7.493408e+140 & 1339.309\\\\\n\\end{tabular}\n\n\\item[\\$`besagproper-rw1`] A tibble: 1 × 3\n\\begin{tabular}{lll}\n rmse & rse & msle\\\\\n <dbl> & <dbl> & <dbl>\\\\\n\\hline\n\t 37.01129 & 1.092589 & 3.02498\\\\\n\\end{tabular}\n\n\\item[\\$`besag-rw1`] A tibble: 1 × 3\n\\begin{tabular}{lll}\n rmse & rse & msle\\\\\n <dbl> & <dbl> & <dbl>\\\\\n\\hline\n\t 37.01127 & 1.092588 & 3.024886\\\\\n\\end{tabular}\n\n\\item[\\$`bym-rw1`] A tibble: 1 × 3\n\\begin{tabular}{lll}\n rmse & rse & msle\\\\\n <dbl> & <dbl> & <dbl>\\\\\n\\hline\n\t 37.01127 & 1.092588 & 3.024865\\\\\n\\end{tabular}\n\n\\item[\\$`besagproper-rw2`] A tibble: 1 × 3\n\\begin{tabular}{lll}\n rmse & rse & msle\\\\\n <dbl> & <dbl> & <dbl>\\\\\n\\hline\n\t 37.01127 & 1.092588 & 3.024907\\\\\n\\end{tabular}\n\n\\item[\\$`besag-rw2`] A tibble: 1 × 3\n\\begin{tabular}{lll}\n rmse & rse & msle\\\\\n <dbl> & <dbl> & <dbl>\\\\\n\\hline\n\t 37.01127 & 1.092588 & 3.024906\\\\\n\\end{tabular}\n\n\\item[\\$`bym-rw2`] A tibble: 1 × 3\n\\begin{tabular}{lll}\n rmse & rse & msle\\\\\n <dbl> & <dbl> & <dbl>\\\\\n\\hline\n\t 37.01126 & 1.092588 & 3.024844\\\\\n\\end{tabular}\n\n\\end{description}\n",
            "text/markdown": "$iid\n:   \nA tibble: 1 × 3\n\n| rmse &lt;dbl&gt; | rse &lt;dbl&gt; | msle &lt;dbl&gt; |\n|---|---|---|\n| 37.01142 | 1.092597 | 3.025404 |\n\n\n$besagproper\n:   \nA tibble: 1 × 3\n\n| rmse &lt;dbl&gt; | rse &lt;dbl&gt; | msle &lt;dbl&gt; |\n|---|---|---|\n| 37.01142 | 1.092597 | 3.025421 |\n\n\n$besag\n:   \nA tibble: 1 × 3\n\n| rmse &lt;dbl&gt; | rse &lt;dbl&gt; | msle &lt;dbl&gt; |\n|---|---|---|\n| 37.01142 | 1.092597 | 3.025419 |\n\n\n$bym\n:   \nA tibble: 1 × 3\n\n| rmse &lt;dbl&gt; | rse &lt;dbl&gt; | msle &lt;dbl&gt; |\n|---|---|---|\n| 37.01142 | 1.092597 | 3.025406 |\n\n\n$ar1\n:   \nA tibble: 1 × 3\n\n| rmse &lt;dbl&gt; | rse &lt;dbl&gt; | msle &lt;dbl&gt; |\n|---|---|---|\n| 37.01141 | 1.092597 | 3.025405 |\n\n\n$rw1\n:   \nA tibble: 1 × 3\n\n| rmse &lt;dbl&gt; | rse &lt;dbl&gt; | msle &lt;dbl&gt; |\n|---|---|---|\n| 37.0114 | 1.092596 | 3.025391 |\n\n\n$rw2\n:   \nA tibble: 1 × 3\n\n| rmse &lt;dbl&gt; | rse &lt;dbl&gt; | msle &lt;dbl&gt; |\n|---|---|---|\n| 9.692715e+71 | 7.493408e+140 | 1339.309 |\n\n\n$`besagproper-rw1`\n:   \nA tibble: 1 × 3\n\n| rmse &lt;dbl&gt; | rse &lt;dbl&gt; | msle &lt;dbl&gt; |\n|---|---|---|\n| 37.01129 | 1.092589 | 3.02498 |\n\n\n$`besag-rw1`\n:   \nA tibble: 1 × 3\n\n| rmse &lt;dbl&gt; | rse &lt;dbl&gt; | msle &lt;dbl&gt; |\n|---|---|---|\n| 37.01127 | 1.092588 | 3.024886 |\n\n\n$`bym-rw1`\n:   \nA tibble: 1 × 3\n\n| rmse &lt;dbl&gt; | rse &lt;dbl&gt; | msle &lt;dbl&gt; |\n|---|---|---|\n| 37.01127 | 1.092588 | 3.024865 |\n\n\n$`besagproper-rw2`\n:   \nA tibble: 1 × 3\n\n| rmse &lt;dbl&gt; | rse &lt;dbl&gt; | msle &lt;dbl&gt; |\n|---|---|---|\n| 37.01127 | 1.092588 | 3.024907 |\n\n\n$`besag-rw2`\n:   \nA tibble: 1 × 3\n\n| rmse &lt;dbl&gt; | rse &lt;dbl&gt; | msle &lt;dbl&gt; |\n|---|---|---|\n| 37.01127 | 1.092588 | 3.024906 |\n\n\n$`bym-rw2`\n:   \nA tibble: 1 × 3\n\n| rmse &lt;dbl&gt; | rse &lt;dbl&gt; | msle &lt;dbl&gt; |\n|---|---|---|\n| 37.01126 | 1.092588 | 3.024844 |\n\n\n\n\n",
            "text/html": [
              "<dl>\n",
              "\t<dt>$iid</dt>\n",
              "\t\t<dd><table class=\"dataframe\">\n",
              "<caption>A tibble: 1 × 3</caption>\n",
              "<thead>\n",
              "\t<tr><th scope=col>rmse</th><th scope=col>rse</th><th scope=col>msle</th></tr>\n",
              "\t<tr><th scope=col>&lt;dbl&gt;</th><th scope=col>&lt;dbl&gt;</th><th scope=col>&lt;dbl&gt;</th></tr>\n",
              "</thead>\n",
              "<tbody>\n",
              "\t<tr><td>37.01142</td><td>1.092597</td><td>3.025404</td></tr>\n",
              "</tbody>\n",
              "</table>\n",
              "</dd>\n",
              "\t<dt>$besagproper</dt>\n",
              "\t\t<dd><table class=\"dataframe\">\n",
              "<caption>A tibble: 1 × 3</caption>\n",
              "<thead>\n",
              "\t<tr><th scope=col>rmse</th><th scope=col>rse</th><th scope=col>msle</th></tr>\n",
              "\t<tr><th scope=col>&lt;dbl&gt;</th><th scope=col>&lt;dbl&gt;</th><th scope=col>&lt;dbl&gt;</th></tr>\n",
              "</thead>\n",
              "<tbody>\n",
              "\t<tr><td>37.01142</td><td>1.092597</td><td>3.025421</td></tr>\n",
              "</tbody>\n",
              "</table>\n",
              "</dd>\n",
              "\t<dt>$besag</dt>\n",
              "\t\t<dd><table class=\"dataframe\">\n",
              "<caption>A tibble: 1 × 3</caption>\n",
              "<thead>\n",
              "\t<tr><th scope=col>rmse</th><th scope=col>rse</th><th scope=col>msle</th></tr>\n",
              "\t<tr><th scope=col>&lt;dbl&gt;</th><th scope=col>&lt;dbl&gt;</th><th scope=col>&lt;dbl&gt;</th></tr>\n",
              "</thead>\n",
              "<tbody>\n",
              "\t<tr><td>37.01142</td><td>1.092597</td><td>3.025419</td></tr>\n",
              "</tbody>\n",
              "</table>\n",
              "</dd>\n",
              "\t<dt>$bym</dt>\n",
              "\t\t<dd><table class=\"dataframe\">\n",
              "<caption>A tibble: 1 × 3</caption>\n",
              "<thead>\n",
              "\t<tr><th scope=col>rmse</th><th scope=col>rse</th><th scope=col>msle</th></tr>\n",
              "\t<tr><th scope=col>&lt;dbl&gt;</th><th scope=col>&lt;dbl&gt;</th><th scope=col>&lt;dbl&gt;</th></tr>\n",
              "</thead>\n",
              "<tbody>\n",
              "\t<tr><td>37.01142</td><td>1.092597</td><td>3.025406</td></tr>\n",
              "</tbody>\n",
              "</table>\n",
              "</dd>\n",
              "\t<dt>$ar1</dt>\n",
              "\t\t<dd><table class=\"dataframe\">\n",
              "<caption>A tibble: 1 × 3</caption>\n",
              "<thead>\n",
              "\t<tr><th scope=col>rmse</th><th scope=col>rse</th><th scope=col>msle</th></tr>\n",
              "\t<tr><th scope=col>&lt;dbl&gt;</th><th scope=col>&lt;dbl&gt;</th><th scope=col>&lt;dbl&gt;</th></tr>\n",
              "</thead>\n",
              "<tbody>\n",
              "\t<tr><td>37.01141</td><td>1.092597</td><td>3.025405</td></tr>\n",
              "</tbody>\n",
              "</table>\n",
              "</dd>\n",
              "\t<dt>$rw1</dt>\n",
              "\t\t<dd><table class=\"dataframe\">\n",
              "<caption>A tibble: 1 × 3</caption>\n",
              "<thead>\n",
              "\t<tr><th scope=col>rmse</th><th scope=col>rse</th><th scope=col>msle</th></tr>\n",
              "\t<tr><th scope=col>&lt;dbl&gt;</th><th scope=col>&lt;dbl&gt;</th><th scope=col>&lt;dbl&gt;</th></tr>\n",
              "</thead>\n",
              "<tbody>\n",
              "\t<tr><td>37.0114</td><td>1.092596</td><td>3.025391</td></tr>\n",
              "</tbody>\n",
              "</table>\n",
              "</dd>\n",
              "\t<dt>$rw2</dt>\n",
              "\t\t<dd><table class=\"dataframe\">\n",
              "<caption>A tibble: 1 × 3</caption>\n",
              "<thead>\n",
              "\t<tr><th scope=col>rmse</th><th scope=col>rse</th><th scope=col>msle</th></tr>\n",
              "\t<tr><th scope=col>&lt;dbl&gt;</th><th scope=col>&lt;dbl&gt;</th><th scope=col>&lt;dbl&gt;</th></tr>\n",
              "</thead>\n",
              "<tbody>\n",
              "\t<tr><td>9.692715e+71</td><td>7.493408e+140</td><td>1339.309</td></tr>\n",
              "</tbody>\n",
              "</table>\n",
              "</dd>\n",
              "\t<dt>$`besagproper-rw1`</dt>\n",
              "\t\t<dd><table class=\"dataframe\">\n",
              "<caption>A tibble: 1 × 3</caption>\n",
              "<thead>\n",
              "\t<tr><th scope=col>rmse</th><th scope=col>rse</th><th scope=col>msle</th></tr>\n",
              "\t<tr><th scope=col>&lt;dbl&gt;</th><th scope=col>&lt;dbl&gt;</th><th scope=col>&lt;dbl&gt;</th></tr>\n",
              "</thead>\n",
              "<tbody>\n",
              "\t<tr><td>37.01129</td><td>1.092589</td><td>3.02498</td></tr>\n",
              "</tbody>\n",
              "</table>\n",
              "</dd>\n",
              "\t<dt>$`besag-rw1`</dt>\n",
              "\t\t<dd><table class=\"dataframe\">\n",
              "<caption>A tibble: 1 × 3</caption>\n",
              "<thead>\n",
              "\t<tr><th scope=col>rmse</th><th scope=col>rse</th><th scope=col>msle</th></tr>\n",
              "\t<tr><th scope=col>&lt;dbl&gt;</th><th scope=col>&lt;dbl&gt;</th><th scope=col>&lt;dbl&gt;</th></tr>\n",
              "</thead>\n",
              "<tbody>\n",
              "\t<tr><td>37.01127</td><td>1.092588</td><td>3.024886</td></tr>\n",
              "</tbody>\n",
              "</table>\n",
              "</dd>\n",
              "\t<dt>$`bym-rw1`</dt>\n",
              "\t\t<dd><table class=\"dataframe\">\n",
              "<caption>A tibble: 1 × 3</caption>\n",
              "<thead>\n",
              "\t<tr><th scope=col>rmse</th><th scope=col>rse</th><th scope=col>msle</th></tr>\n",
              "\t<tr><th scope=col>&lt;dbl&gt;</th><th scope=col>&lt;dbl&gt;</th><th scope=col>&lt;dbl&gt;</th></tr>\n",
              "</thead>\n",
              "<tbody>\n",
              "\t<tr><td>37.01127</td><td>1.092588</td><td>3.024865</td></tr>\n",
              "</tbody>\n",
              "</table>\n",
              "</dd>\n",
              "\t<dt>$`besagproper-rw2`</dt>\n",
              "\t\t<dd><table class=\"dataframe\">\n",
              "<caption>A tibble: 1 × 3</caption>\n",
              "<thead>\n",
              "\t<tr><th scope=col>rmse</th><th scope=col>rse</th><th scope=col>msle</th></tr>\n",
              "\t<tr><th scope=col>&lt;dbl&gt;</th><th scope=col>&lt;dbl&gt;</th><th scope=col>&lt;dbl&gt;</th></tr>\n",
              "</thead>\n",
              "<tbody>\n",
              "\t<tr><td>37.01127</td><td>1.092588</td><td>3.024907</td></tr>\n",
              "</tbody>\n",
              "</table>\n",
              "</dd>\n",
              "\t<dt>$`besag-rw2`</dt>\n",
              "\t\t<dd><table class=\"dataframe\">\n",
              "<caption>A tibble: 1 × 3</caption>\n",
              "<thead>\n",
              "\t<tr><th scope=col>rmse</th><th scope=col>rse</th><th scope=col>msle</th></tr>\n",
              "\t<tr><th scope=col>&lt;dbl&gt;</th><th scope=col>&lt;dbl&gt;</th><th scope=col>&lt;dbl&gt;</th></tr>\n",
              "</thead>\n",
              "<tbody>\n",
              "\t<tr><td>37.01127</td><td>1.092588</td><td>3.024906</td></tr>\n",
              "</tbody>\n",
              "</table>\n",
              "</dd>\n",
              "\t<dt>$`bym-rw2`</dt>\n",
              "\t\t<dd><table class=\"dataframe\">\n",
              "<caption>A tibble: 1 × 3</caption>\n",
              "<thead>\n",
              "\t<tr><th scope=col>rmse</th><th scope=col>rse</th><th scope=col>msle</th></tr>\n",
              "\t<tr><th scope=col>&lt;dbl&gt;</th><th scope=col>&lt;dbl&gt;</th><th scope=col>&lt;dbl&gt;</th></tr>\n",
              "</thead>\n",
              "<tbody>\n",
              "\t<tr><td>37.01126</td><td>1.092588</td><td>3.024844</td></tr>\n",
              "</tbody>\n",
              "</table>\n",
              "</dd>\n",
              "</dl>\n"
            ]
          },
          "metadata": {
            "tags": []
          }
        }
      ]
    },
    {
      "cell_type": "markdown",
      "metadata": {
        "id": "OhN4mEKnKqcD"
      },
      "source": [
        "##7.Export models and metrics"
      ]
    },
    {
      "cell_type": "code",
      "metadata": {
        "id": "344kKyzPKqAS"
      },
      "source": [
        "saveRDS(model_types,'/content/resultados_distritos_inla.rds')\n",
        "saveRDS(model_metricas,'/content/metricas_distritos_inla.rds')"
      ],
      "execution_count": 20,
      "outputs": []
    }
  ]
}